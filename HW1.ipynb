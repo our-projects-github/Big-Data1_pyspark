{
 "cells": [
  {
   "cell_type": "code",
   "execution_count": 233,
   "id": "be933794",
   "metadata": {},
   "outputs": [],
   "source": [
    "from pyspark.sql import SparkSession #Import the pyspark\n",
    "from pyspark.conf import SparkConf #Import the SparkConf\n",
    "from pyspark.context import SparkContext #Import the SparkContext\n",
    "import time"
   ]
  },
  {
   "cell_type": "code",
   "execution_count": 234,
   "id": "48f283b4",
   "metadata": {},
   "outputs": [],
   "source": [
    "#initializing and starting a pyspark session\n",
    "\n",
    "conf = SparkConf()\n",
    "conf.setMaster(\"local\").setAppName(\"word-counts\") \n",
    "# sc = SparkContext(conf=conf1) #The spark context object is assigned to a variable sc.\n",
    "sc = SparkContext.getOrCreate(conf=conf)"
   ]
  },
  {
   "cell_type": "code",
   "execution_count": 235,
   "id": "96926413",
   "metadata": {},
   "outputs": [
    {
     "data": {
      "text/html": [
       "\n",
       "        <div>\n",
       "            <p><b>SparkContext</b></p>\n",
       "\n",
       "            <p><a href=\"http://172.27.90.33:4040\">Spark UI</a></p>\n",
       "\n",
       "            <dl>\n",
       "              <dt>Version</dt>\n",
       "                <dd><code>v3.3.1</code></dd>\n",
       "              <dt>Master</dt>\n",
       "                <dd><code>local</code></dd>\n",
       "              <dt>AppName</dt>\n",
       "                <dd><code>word-counts</code></dd>\n",
       "            </dl>\n",
       "        </div>\n",
       "        "
      ],
      "text/plain": [
       "<SparkContext master=local appName=word-counts>"
      ]
     },
     "execution_count": 235,
     "metadata": {},
     "output_type": "execute_result"
    }
   ],
   "source": [
    "sc\n"
   ]
  },
  {
   "cell_type": "markdown",
   "id": "a43ea576",
   "metadata": {},
   "source": [
    "# Q 1.1"
   ]
  },
  {
   "cell_type": "code",
   "execution_count": 238,
   "id": "e541a491",
   "metadata": {},
   "outputs": [
    {
     "name": "stderr",
     "output_type": "stream",
     "text": [
      "\r",
      "[Stage 44698:>                                                      (0 + 1) / 1]\r"
     ]
    },
    {
     "name": "stdout",
     "output_type": "stream",
     "text": [
      "count =  797474\n",
      "count words except for space =  780223\n"
     ]
    },
    {
     "name": "stderr",
     "output_type": "stream",
     "text": [
      "\r",
      "                                                                                \r"
     ]
    }
   ],
   "source": [
    "#1.1\n",
    "#reading all the words in the text file and making a list of tupples including words and their counts\n",
    "lines = sc.textFile(\"JaneAusten.txt\") #The file is read using the textFile() method.\n",
    "word_counts = lines.flatMap(lambda line: line.split(' '))\\\n",
    "                   .map(lambda word: (word,1)) \\\n",
    "                   .reduceByKey(lambda count1, count2: count1 + count2) \\\n",
    "                   .collect() \n",
    "\n",
    "\n",
    "c = 0\n",
    "\n",
    "#counting all the words\n",
    "for (word,count) in word_counts[0:]:\n",
    "#     print(word,count)\n",
    "    c += count\n",
    "    \n",
    "print(\"count = \",c)\n",
    "\n",
    "c = 0\n",
    "\n",
    "#counting words except for space(\" \") \n",
    "for (word,count) in word_counts[1:]:\n",
    "#     print(word,count)\n",
    "    c += count\n",
    "    \n",
    "print(\"count words except for space = \",c)\n"
   ]
  },
  {
   "cell_type": "code",
   "execution_count": 239,
   "id": "dac65c40",
   "metadata": {},
   "outputs": [
    {
     "data": {
      "text/plain": [
       "[('', 17251),\n",
       " ('Project', 81),\n",
       " (\"Gutenberg's\", 1),\n",
       " ('The', 1663),\n",
       " ('Complete', 3),\n",
       " ('Works', 3),\n",
       " ('of', 22761),\n",
       " ('Jane', 374),\n",
       " ('Austen,', 6),\n",
       " ('by', 3766),\n",
       " ('Austen', 27),\n",
       " ('This', 358),\n",
       " ('eBook', 5),\n",
       " ('is', 4932),\n",
       " ('for', 6703),\n",
       " ('the', 26654),\n",
       " ('use', 139),\n",
       " ('anyone', 34),\n",
       " ('anywhere', 19),\n",
       " ('at', 4835),\n",
       " ('no', 2686),\n",
       " ('cost', 27),\n",
       " ('and', 22184),\n",
       " ('with', 6070),\n",
       " ('almost', 480),\n",
       " ('restrictions', 7),\n",
       " ('whatsoever.', 2),\n",
       " ('You', 691),\n",
       " ('may', 1040),\n",
       " ('copy', 10),\n",
       " ('it,', 796),\n",
       " ('give', 667),\n",
       " ('it', 6800),\n",
       " ('away', 393),\n",
       " ('or', 2373),\n",
       " ('re-use', 2),\n",
       " ('under', 296),\n",
       " ('terms', 72),\n",
       " ('Gutenberg', 23),\n",
       " ('License', 8),\n",
       " ('included', 14),\n",
       " ('this', 1992),\n",
       " ('online', 4),\n",
       " ('www.gutenberg.org', 2),\n",
       " ('Title:', 1),\n",
       " ('Author:', 1),\n",
       " ('Editor:', 1),\n",
       " ('David', 3),\n",
       " ('Widger', 3),\n",
       " ('Release', 1),\n",
       " ('Date:', 1),\n",
       " ('January', 4),\n",
       " ('25,', 1),\n",
       " ('2010', 1),\n",
       " ('[EBook', 1),\n",
       " ('#31100]', 1),\n",
       " ('Language:', 1),\n",
       " ('English', 16),\n",
       " ('Character', 6),\n",
       " ('set', 246),\n",
       " ('encoding:', 1),\n",
       " ('ASCII', 1),\n",
       " ('***', 6),\n",
       " ('START', 1),\n",
       " ('OF', 25),\n",
       " ('THIS', 7),\n",
       " ('PROJECT', 4),\n",
       " ('GUTENBERG', 3),\n",
       " ('EBOOK', 2),\n",
       " ('THE', 32),\n",
       " ('WORKS', 5),\n",
       " ('JANE', 4),\n",
       " ('AUSTEN', 6),\n",
       " ('Produced', 2),\n",
       " ('many', 622),\n",
       " ('volunteers.', 1),\n",
       " ('Edited', 1),\n",
       " ('Editions', 1),\n",
       " ('DEDICATION', 1),\n",
       " ('collection', 20),\n",
       " ('dedicated', 1),\n",
       " ('to', 25322),\n",
       " ('Alice', 1),\n",
       " ('Goodson', 1),\n",
       " ('[Hart]', 1),\n",
       " ('Woodby', 1),\n",
       " ('[Note:', 1),\n",
       " ('accompanying', 10),\n",
       " ('HTML', 1),\n",
       " ('file', 3),\n",
       " ('has', 1213),\n",
       " ('active', 28),\n",
       " ('links', 4),\n",
       " ('all', 3479),\n",
       " ('volumes', 2),\n",
       " ('chapters', 2),\n",
       " ('in', 11523),\n",
       " ('set.]', 1),\n",
       " ('CONTENTS:', 1),\n",
       " ('PERSUASION', 2),\n",
       " ('NORTHANGER', 3),\n",
       " ('ABBEY', 3),\n",
       " ('MANSFIELD', 2),\n",
       " ('PARK', 2),\n",
       " ('EMMA', 2),\n",
       " ('LADY', 42),\n",
       " ('SUSAN', 24),\n",
       " ('LOVE', 3),\n",
       " ('AND', 11),\n",
       " ('FREINDSHIP', 3),\n",
       " ('OTHER', 3),\n",
       " ('EARLY', 2),\n",
       " ('PRIDE', 3),\n",
       " ('PREJUDICE', 2),\n",
       " ('SENSE', 2),\n",
       " ('SENSIBILITY', 2),\n",
       " ('(1818)', 1),\n",
       " ('Chapter', 85),\n",
       " ('1', 3),\n",
       " ('Sir', 722),\n",
       " ('Walter', 79),\n",
       " ('Elliot,', 68),\n",
       " ('Kellynch', 47),\n",
       " ('Hall,', 11),\n",
       " ('Somersetshire,', 6),\n",
       " ('was', 11342),\n",
       " ('a', 13772),\n",
       " ('man', 514),\n",
       " ('who,', 100),\n",
       " ('his', 5872),\n",
       " ('own', 1269),\n",
       " ('amusement,', 16),\n",
       " ('never', 1396),\n",
       " ('took', 277),\n",
       " ('up', 663),\n",
       " ('any', 2188),\n",
       " ('book', 31),\n",
       " ('but', 4237),\n",
       " ('Baronetage;', 1),\n",
       " ('there', 1504),\n",
       " ('he', 5756),\n",
       " ('found', 448),\n",
       " ('occupation', 14),\n",
       " ('an', 2299),\n",
       " ('idle', 27),\n",
       " ('hour,', 60),\n",
       " ('consolation', 42),\n",
       " ('distressed', 38),\n",
       " ('one;', 25),\n",
       " ('faculties', 1),\n",
       " ('were', 3078),\n",
       " ('roused', 32),\n",
       " ('into', 888),\n",
       " ('admiration', 86),\n",
       " ('respect,', 37),\n",
       " ('contemplating', 4),\n",
       " ('limited', 12),\n",
       " ('remnant', 3),\n",
       " ('earliest', 26),\n",
       " ('patents;', 1),\n",
       " ('unwelcome', 21),\n",
       " ('sensations,', 8),\n",
       " ('arising', 10),\n",
       " ('from', 2937),\n",
       " ('domestic', 47),\n",
       " ('affairs', 18),\n",
       " ('changed', 36),\n",
       " ('naturally', 69),\n",
       " ('pity', 80),\n",
       " ('contempt', 21),\n",
       " ('as', 7243),\n",
       " ('turned', 186),\n",
       " ('over', 434),\n",
       " ('endless', 11),\n",
       " ('creations', 1),\n",
       " ('last', 539),\n",
       " ('century;', 1),\n",
       " ('there,', 129),\n",
       " ('if', 1533),\n",
       " ('every', 1449),\n",
       " ('other', 837),\n",
       " ('leaf', 4),\n",
       " ('powerless,', 1),\n",
       " ('could', 3567),\n",
       " ('read', 177),\n",
       " ('history', 37),\n",
       " ('interest', 164),\n",
       " ('which', 3232),\n",
       " ('failed.', 4),\n",
       " ('page', 12),\n",
       " ('favourite', 83),\n",
       " ('volume', 21),\n",
       " ('always', 857),\n",
       " ('opened:', 2),\n",
       " ('\"ELLIOT', 1),\n",
       " ('KELLYNCH', 1),\n",
       " ('HALL.', 1),\n",
       " ('\"Walter', 1),\n",
       " ('born', 31),\n",
       " ('March', 6),\n",
       " ('1,', 2),\n",
       " ('1760,', 1),\n",
       " ('married,', 59),\n",
       " ('July', 2),\n",
       " ('15,', 1),\n",
       " ('1784,', 1),\n",
       " ('Elizabeth,', 161),\n",
       " ('daughter', 131),\n",
       " ('James', 93),\n",
       " ('Stevenson,', 1),\n",
       " ('Esq.', 5),\n",
       " ('South', 11),\n",
       " ('Park,', 30),\n",
       " ('county', 13),\n",
       " ('Gloucester,', 1),\n",
       " ('lady', 164),\n",
       " ('(who', 4),\n",
       " ('died', 28),\n",
       " ('1800)', 1),\n",
       " ('issue', 3),\n",
       " ('June', 6),\n",
       " ('1785;', 1),\n",
       " ('Anne,', 105),\n",
       " ('August', 5),\n",
       " ('9,', 1),\n",
       " ('1787;', 1),\n",
       " ('still-born', 1),\n",
       " ('son,', 55),\n",
       " ('November', 15),\n",
       " ('5,', 1),\n",
       " ('1789;', 1),\n",
       " ('Mary,', 72),\n",
       " ('20,', 2),\n",
       " ('1791.\"', 1),\n",
       " ('Precisely', 1),\n",
       " ('such', 2106),\n",
       " ('had', 7412),\n",
       " ('paragraph', 15),\n",
       " ('originally', 14),\n",
       " ('stood', 71),\n",
       " (\"printer's\", 1),\n",
       " ('hands;', 8),\n",
       " ('improved', 30),\n",
       " ('adding,', 11),\n",
       " ('information', 70),\n",
       " ('himself', 377),\n",
       " ('family,', 167),\n",
       " ('these', 317),\n",
       " ('words,', 67),\n",
       " ('after', 856),\n",
       " ('date', 10),\n",
       " (\"Mary's\", 19),\n",
       " ('birth--', 1),\n",
       " ('\"Married,', 1),\n",
       " ('December', 2),\n",
       " ('16,', 1),\n",
       " ('1810,', 1),\n",
       " ('Charles,', 38),\n",
       " ('son', 98),\n",
       " ('heir', 8),\n",
       " ('Charles', 135),\n",
       " ('Musgrove,', 32),\n",
       " ('Uppercross,', 22),\n",
       " ('Somerset,\"', 2),\n",
       " ('inserting', 1),\n",
       " ('most', 1125),\n",
       " ('accurately', 3),\n",
       " ('day', 435),\n",
       " ('month', 27),\n",
       " ('on', 3561),\n",
       " ('lost', 99),\n",
       " ('wife.', 37),\n",
       " ('Then', 39),\n",
       " ('followed', 115),\n",
       " ('rise', 21),\n",
       " ('ancient', 16),\n",
       " ('respectable', 61),\n",
       " ('usual', 139),\n",
       " ('terms;', 1),\n",
       " ('how', 1045),\n",
       " ('been', 3348),\n",
       " ('first', 899),\n",
       " ('settled', 153),\n",
       " ('Cheshire;', 1),\n",
       " ('mentioned', 101),\n",
       " ('Dugdale,', 1),\n",
       " ('serving', 4),\n",
       " ('office', 28),\n",
       " ('high', 103),\n",
       " ('sheriff,', 1),\n",
       " ('representing', 9),\n",
       " ('borough', 1),\n",
       " ('three', 345),\n",
       " ('successive', 4),\n",
       " ('parliaments,', 1),\n",
       " ('exertions', 17),\n",
       " ('loyalty,', 1),\n",
       " ('dignity', 34),\n",
       " ('baronet,', 5),\n",
       " ('year', 83),\n",
       " ('II,', 2),\n",
       " ('Marys', 1),\n",
       " ('Elizabeths', 1),\n",
       " ('they', 2450),\n",
       " ('married;', 11),\n",
       " ('forming', 34),\n",
       " ('altogether', 67),\n",
       " ('two', 800),\n",
       " ('handsome', 106),\n",
       " ('duodecimo', 2),\n",
       " ('pages,', 2),\n",
       " ('concluding', 12),\n",
       " ('arms', 16),\n",
       " ('motto:--\"Principal', 1),\n",
       " ('seat,', 23),\n",
       " (\"Walter's\", 17),\n",
       " ('handwriting', 5),\n",
       " ('again', 415),\n",
       " ('finale:--', 1),\n",
       " ('\"Heir', 1),\n",
       " ('presumptive,', 2),\n",
       " ('William', 142),\n",
       " ('Esq.,', 2),\n",
       " ('great', 973),\n",
       " ('grandson', 1),\n",
       " ('second', 128),\n",
       " ('Walter.\"', 1),\n",
       " ('Vanity', 3),\n",
       " ('beginning', 128),\n",
       " ('end', 229),\n",
       " (\"Elliot's\", 35),\n",
       " ('character;', 12),\n",
       " ('vanity', 52),\n",
       " ('person', 193),\n",
       " ('situation.', 20),\n",
       " ('He', 1388),\n",
       " ('remarkably', 42),\n",
       " ('youth;', 3),\n",
       " ('and,', 433),\n",
       " ('fifty-four,', 1),\n",
       " ('still', 525),\n",
       " ('very', 3753),\n",
       " ('fine', 196),\n",
       " ('man.', 53),\n",
       " ('Few', 5),\n",
       " ('women', 67),\n",
       " ('think', 1358),\n",
       " ('more', 2030),\n",
       " ('their', 2157),\n",
       " ('personal', 47),\n",
       " ('appearance', 147),\n",
       " ('than', 2013),\n",
       " ('did,', 83),\n",
       " ('nor', 377),\n",
       " ('valet', 1),\n",
       " ('new', 192),\n",
       " ('made', 851),\n",
       " ('lord', 6),\n",
       " ('be', 8339),\n",
       " ('delighted', 122),\n",
       " ('place', 267),\n",
       " ('held', 42),\n",
       " ('society.', 12),\n",
       " ('considered', 112),\n",
       " ('blessing', 36),\n",
       " ('beauty', 71),\n",
       " ('inferior', 45),\n",
       " ('only', 1656),\n",
       " ('baronetcy;', 1),\n",
       " ('who', 1463),\n",
       " ('united', 35),\n",
       " ('gifts,', 1),\n",
       " ('constant', 71),\n",
       " ('object', 183),\n",
       " ('warmest', 20),\n",
       " ('respect', 101),\n",
       " ('devotion.', 3),\n",
       " ('His', 328),\n",
       " ('good', 1054),\n",
       " ('looks', 89),\n",
       " ('rank', 27),\n",
       " ('one', 1630),\n",
       " ('fair', 99),\n",
       " ('claim', 51),\n",
       " ('attachment;', 12),\n",
       " ('since', 342),\n",
       " ('them', 1433),\n",
       " ('must', 2176),\n",
       " ('have', 5589),\n",
       " ('owed', 26),\n",
       " ('wife', 115),\n",
       " ('superior', 104),\n",
       " ('character', 148),\n",
       " ('thing', 551),\n",
       " ('deserved', 30),\n",
       " ('own.', 75),\n",
       " ('Lady', 699),\n",
       " ('Elliot', 125),\n",
       " ('excellent', 117),\n",
       " ('woman,', 84),\n",
       " ('sensible', 121),\n",
       " ('amiable;', 4),\n",
       " ('whose', 268),\n",
       " ('judgement', 13),\n",
       " ('conduct,', 49),\n",
       " ('might', 1397),\n",
       " ('pardoned', 1),\n",
       " ('youthful', 8),\n",
       " ('infatuation', 5),\n",
       " ('her', 11427),\n",
       " ('required', 53),\n",
       " ('indulgence', 38),\n",
       " ('afterwards.--She', 1),\n",
       " ('humoured,', 2),\n",
       " ('softened,', 8),\n",
       " ('concealed', 23),\n",
       " ('failings,', 1),\n",
       " ('promoted', 8),\n",
       " ('real', 188),\n",
       " ('respectability', 10),\n",
       " ('seventeen', 9),\n",
       " ('years;', 8),\n",
       " ('though', 1002),\n",
       " ('not', 8548),\n",
       " ('happiest', 41),\n",
       " ('being', 1502),\n",
       " ('world', 173),\n",
       " ('herself,', 336),\n",
       " ('enough', 477),\n",
       " ('duties,', 8),\n",
       " ('friends,', 92),\n",
       " ('children,', 63),\n",
       " ('attach', 28),\n",
       " ('life,', 93),\n",
       " ('make', 841),\n",
       " ('matter', 130),\n",
       " ('indifference', 45),\n",
       " ('when', 1664),\n",
       " ('she', 8012),\n",
       " ('called', 218),\n",
       " ('quit', 43),\n",
       " ('them.--Three', 1),\n",
       " ('girls,', 33),\n",
       " ('eldest', 87),\n",
       " ('sixteen', 15),\n",
       " ('fourteen,', 6),\n",
       " ('awful', 17),\n",
       " ('legacy', 4),\n",
       " ('mother', 321),\n",
       " ('bequeath,', 1),\n",
       " ('charge', 48),\n",
       " ('rather,', 15),\n",
       " ('confide', 9),\n",
       " ('authority', 20),\n",
       " ('guidance', 5),\n",
       " ('conceited,', 3),\n",
       " ('silly', 22),\n",
       " ('father.', 32),\n",
       " ('She', 2031),\n",
       " ('had,', 76),\n",
       " ('however,', 559),\n",
       " ('intimate', 57),\n",
       " ('friend,', 129),\n",
       " ('sensible,', 17),\n",
       " ('deserving', 19),\n",
       " ('brought,', 10),\n",
       " ('strong', 152),\n",
       " ('attachment', 123),\n",
       " ('settle', 48),\n",
       " ('close', 85),\n",
       " ('her,', 838),\n",
       " ('village', 21),\n",
       " ('Kellynch;', 2),\n",
       " ('kindness', 138),\n",
       " ('advice,', 18),\n",
       " ('mainly', 3),\n",
       " ('relied', 5),\n",
       " ('best', 278),\n",
       " ('help', 194),\n",
       " ('maintenance', 4),\n",
       " ('principles', 16),\n",
       " ('instruction', 5),\n",
       " ('anxiously', 20),\n",
       " ('giving', 198),\n",
       " ('daughters.', 19),\n",
       " ('Walter,', 26),\n",
       " ('did', 1286),\n",
       " ('marry,', 28),\n",
       " ('whatever', 129),\n",
       " ('anticipated', 9),\n",
       " ('that', 7966),\n",
       " ('head', 101),\n",
       " ('acquaintance.', 41),\n",
       " ('Thirteen', 3),\n",
       " ('years', 234),\n",
       " ('passed', 246),\n",
       " ('death,', 17),\n",
       " ('near', 190),\n",
       " ('neighbours', 18),\n",
       " ('remained', 112),\n",
       " ('widower,', 1),\n",
       " ('widow.', 2),\n",
       " ('That', 165),\n",
       " ('Russell,', 30),\n",
       " ('steady', 40),\n",
       " ('age', 52),\n",
       " ('character,', 68),\n",
       " ('extremely', 135),\n",
       " ('well', 797),\n",
       " ('provided', 42),\n",
       " ('for,', 110),\n",
       " ('should', 1619),\n",
       " ('thought', 763),\n",
       " ('marriage,', 57),\n",
       " ('needs', 4),\n",
       " ('apology', 26),\n",
       " ('public,', 6),\n",
       " ('rather', 462),\n",
       " ('apt', 18),\n",
       " ('unreasonably', 7),\n",
       " ('discontented', 3),\n",
       " ('woman', 285),\n",
       " ('does', 378),\n",
       " ('marry', 156),\n",
       " ('again,', 250),\n",
       " ('not;', 28),\n",
       " ('continuing', 30),\n",
       " ('singleness', 1),\n",
       " ('requires', 17),\n",
       " ('explanation.', 14),\n",
       " ('Be', 18),\n",
       " ('known', 279),\n",
       " ('then,', 129),\n",
       " ('like', 684),\n",
       " ('father,', 121),\n",
       " ('(having', 1),\n",
       " ('met', 182),\n",
       " ('private', 62),\n",
       " ('disappointments', 8),\n",
       " ('unreasonable', 21),\n",
       " ('applications),', 1),\n",
       " ('prided', 2),\n",
       " ('remaining', 53),\n",
       " ('single', 56),\n",
       " ('dear', 614),\n",
       " (\"daughters'\", 6),\n",
       " ('sake.', 7),\n",
       " ('For', 117),\n",
       " ('daughter,', 70),\n",
       " ('eldest,', 7),\n",
       " ('would', 3284),\n",
       " ('really', 495),\n",
       " ('given', 308),\n",
       " ('thing,', 73),\n",
       " ('much', 1829),\n",
       " ('tempted', 22),\n",
       " ('do.', 102),\n",
       " ('Elizabeth', 462),\n",
       " ('succeeded,', 8),\n",
       " ('sixteen,', 9),\n",
       " ('possible,', 58),\n",
       " (\"mother's\", 126),\n",
       " ('rights', 10),\n",
       " ('consequence;', 7),\n",
       " ('handsome,', 37),\n",
       " ('himself,', 186),\n",
       " ('influence', 109),\n",
       " ('great,', 22),\n",
       " ('gone', 227),\n",
       " ('together', 164),\n",
       " ('happily.', 1),\n",
       " ('children', 101),\n",
       " ('value.', 5),\n",
       " ('Mary', 126),\n",
       " ('acquired', 13),\n",
       " ('little', 1257),\n",
       " ('artificial', 5),\n",
       " ('importance,', 23),\n",
       " ('becoming', 43),\n",
       " ('Mrs', 310),\n",
       " ('Musgrove;', 6),\n",
       " ('elegance', 41),\n",
       " ('mind', 365),\n",
       " ('sweetness', 26),\n",
       " ('placed', 64),\n",
       " ('people', 271),\n",
       " ('understanding,', 21),\n",
       " ('nobody', 137),\n",
       " ('either', 264),\n",
       " ('father', 364),\n",
       " ('sister;', 30),\n",
       " ('word', 149),\n",
       " ('weight,', 4),\n",
       " ('convenience', 18),\n",
       " ('way--she', 1),\n",
       " ('Anne.', 19),\n",
       " ('To', 283),\n",
       " ('indeed,', 215),\n",
       " ('highly', 109),\n",
       " ('valued', 24),\n",
       " ('god-daughter,', 1),\n",
       " ('favourite,', 12),\n",
       " ('friend.', 76),\n",
       " ('Russell', 73),\n",
       " ('loved', 107),\n",
       " ('all;', 64),\n",
       " ('Anne', 311),\n",
       " ('fancy', 100),\n",
       " ('revive', 4),\n",
       " ('again.', 181),\n",
       " ('A', 389),\n",
       " ('few', 515),\n",
       " ('before,', 157),\n",
       " ('pretty', 192),\n",
       " ('girl,', 60),\n",
       " ('bloom', 8),\n",
       " ('vanished', 4),\n",
       " ('early;', 6),\n",
       " ('even', 631),\n",
       " ('its', 701),\n",
       " ('height,', 8),\n",
       " ('admire', 57),\n",
       " ('(so', 2),\n",
       " ('totally', 66),\n",
       " ('different', 188),\n",
       " ('delicate', 34),\n",
       " ('features', 23),\n",
       " ('mild', 16),\n",
       " ('dark', 29),\n",
       " ('eyes', 230),\n",
       " ('own),', 1),\n",
       " ('nothing', 928),\n",
       " ('them,', 357),\n",
       " ('now', 1027),\n",
       " ('faded', 4),\n",
       " ('thin,', 6),\n",
       " ('excite', 27),\n",
       " ('esteem.', 9),\n",
       " ('indulged', 16),\n",
       " ('hope,', 99),\n",
       " ('none,', 11),\n",
       " ('ever', 766),\n",
       " ('reading', 68),\n",
       " ('name', 167),\n",
       " ('work.', 14),\n",
       " ('All', 73),\n",
       " ('equality', 5),\n",
       " ('alliance', 13),\n",
       " ('rest', 192),\n",
       " ('merely', 121),\n",
       " ('connected', 45),\n",
       " ('herself', 775),\n",
       " ('old', 266),\n",
       " ('country', 94),\n",
       " ('family', 321),\n",
       " ('large', 128),\n",
       " ('fortune,', 71),\n",
       " ('therefore', 208),\n",
       " ('honour', 93),\n",
       " ('received', 254),\n",
       " ('none:', 1),\n",
       " ('would,', 34),\n",
       " ('other,', 141),\n",
       " ('suitably.', 1),\n",
       " ('It', 1290),\n",
       " ('sometimes', 162),\n",
       " ('happens', 7),\n",
       " ('handsomer', 8),\n",
       " ('twenty-nine', 1),\n",
       " ('ten', 149),\n",
       " ('before;', 48),\n",
       " ('generally', 98),\n",
       " ('speaking,', 25),\n",
       " ('neither', 191),\n",
       " ('ill', 125),\n",
       " ('health', 66),\n",
       " ('anxiety,', 17),\n",
       " ('time', 947),\n",
       " ('life', 147),\n",
       " ('scarcely', 186),\n",
       " ('charm', 33),\n",
       " ('lost.', 10),\n",
       " ('so', 3674),\n",
       " ('same', 492),\n",
       " ('Miss', 1864),\n",
       " ('begun', 48),\n",
       " ('thirteen', 10),\n",
       " ('ago,', 48),\n",
       " ('excused,', 1),\n",
       " ('therefore,', 182),\n",
       " ('forgetting', 16),\n",
       " ('age,', 33),\n",
       " ('or,', 23),\n",
       " ('least,', 70),\n",
       " ('deemed', 12),\n",
       " ('half', 430),\n",
       " ('fool,', 3),\n",
       " ('thinking', 172),\n",
       " ('blooming', 6),\n",
       " ('ever,', 66),\n",
       " ('amidst', 14),\n",
       " ('wreck', 1),\n",
       " ('everybody', 92),\n",
       " ('else;', 19),\n",
       " ('plainly', 25),\n",
       " ('see', 963),\n",
       " ('acquaintance', 187),\n",
       " ('growing.', 1),\n",
       " ('haggard,', 1),\n",
       " ('coarse,', 3),\n",
       " ('face', 94),\n",
       " ('neighbourhood', 48),\n",
       " ('worsting,', 1),\n",
       " ('rapid', 19),\n",
       " ('increase', 52),\n",
       " (\"crow's\", 1),\n",
       " ('foot', 12),\n",
       " ('about', 861),\n",
       " (\"Russell's\", 29),\n",
       " ('temples', 3),\n",
       " ('long', 586),\n",
       " ('distress', 84),\n",
       " ('him.', 378),\n",
       " ('quite', 867),\n",
       " ('equal', 180),\n",
       " ('contentment.', 2),\n",
       " ('seen', 365),\n",
       " ('mistress', 41),\n",
       " ('presiding', 3),\n",
       " ('directing', 12),\n",
       " ('self-possession', 1),\n",
       " ('decision', 21),\n",
       " ('idea', 258),\n",
       " ('younger', 63),\n",
       " ('was.', 53),\n",
       " ('doing', 170),\n",
       " ('honours,', 2),\n",
       " ('laying', 9),\n",
       " ('down', 383),\n",
       " ('law', 16),\n",
       " ('home,', 149),\n",
       " ('leading', 35),\n",
       " ('way', 381),\n",
       " ('chaise', 25),\n",
       " ('four,', 4),\n",
       " ('walking', 135),\n",
       " ('immediately', 271),\n",
       " ('out', 792),\n",
       " ('drawing-rooms', 3),\n",
       " ('dining-rooms', 1),\n",
       " ('country.', 30),\n",
       " (\"winters'\", 1),\n",
       " ('revolving', 4),\n",
       " ('frosts', 1),\n",
       " ('opening', 53),\n",
       " ('ball', 58),\n",
       " ('credit', 80),\n",
       " ('scanty', 3),\n",
       " ('afforded,', 3),\n",
       " ('springs', 3),\n",
       " ('shewn', 29),\n",
       " ('blossoms,', 1),\n",
       " ('travelled', 17),\n",
       " ('London', 112),\n",
       " (\"weeks'\", 6),\n",
       " ('annual', 2),\n",
       " ('enjoyment', 63),\n",
       " ('world.', 69),\n",
       " ('remembrance', 41),\n",
       " ('this,', 132),\n",
       " ('consciousness', 62),\n",
       " ('nine-and-twenty', 1),\n",
       " ('some', 1308),\n",
       " ('regrets', 15),\n",
       " ('apprehensions;', 1),\n",
       " ('fully', 61),\n",
       " ('satisfied', 142),\n",
       " ('felt', 560),\n",
       " ('approach', 32),\n",
       " ('danger,', 16),\n",
       " ('rejoiced', 23),\n",
       " ('certain', 144),\n",
       " ('properly', 52),\n",
       " ('solicited', 7),\n",
       " ('baronet-blood', 1),\n",
       " ('within', 245),\n",
       " ('next', 313),\n",
       " ('twelvemonth', 17),\n",
       " ('two.', 25),\n",
       " ('take', 474),\n",
       " ('books', 35),\n",
       " ('early', 163),\n",
       " ('youth,', 15),\n",
       " ('liked', 64),\n",
       " ('not.', 87),\n",
       " ('Always', 4),\n",
       " ('presented', 18),\n",
       " ('birth', 12),\n",
       " ('marriage', 120),\n",
       " ('follow', 52),\n",
       " ('youngest', 31),\n",
       " ('sister,', 213),\n",
       " ('evil;', 3),\n",
       " ('once,', 56),\n",
       " ('left', 433),\n",
       " ('open', 120),\n",
       " ('table', 61),\n",
       " ('closed', 39),\n",
       " ('averted', 4),\n",
       " ('eyes,', 61),\n",
       " ('pushed', 8),\n",
       " ('away.', 107),\n",
       " ('disappointment,', 13),\n",
       " ('moreover,', 34),\n",
       " ('book,', 21),\n",
       " ('especially', 88),\n",
       " ('present', 334),\n",
       " ('of.', 70),\n",
       " ('generously', 4),\n",
       " ('supported', 30),\n",
       " ('disappointed', 41),\n",
       " ('her.', 565),\n",
       " ('while', 467),\n",
       " ('young', 779),\n",
       " ('soon', 985),\n",
       " ('him', 2497),\n",
       " ('be,', 123),\n",
       " ('event', 65),\n",
       " ('having', 658),\n",
       " ('brother,', 113),\n",
       " ('future', 77),\n",
       " ('meant', 128),\n",
       " ('him,', 563),\n",
       " ('should.', 8),\n",
       " ('boy;', 3),\n",
       " ('sought', 39),\n",
       " ('acquaintance,', 80),\n",
       " ('overtures', 3),\n",
       " ('warmth,', 14),\n",
       " ('persevered', 7),\n",
       " ('seeking', 27),\n",
       " ('making', 196),\n",
       " ('allowance', 13),\n",
       " ('modest', 18),\n",
       " ('drawing-back', 1),\n",
       " ('spring', 24),\n",
       " ('excursions', 1),\n",
       " ('London,', 92),\n",
       " ('bloom,', 6),\n",
       " ('Mr', 269),\n",
       " ('forced', 97),\n",
       " ('introduction.', 4),\n",
       " ('man,', 176),\n",
       " ('just', 557),\n",
       " ('engaged', 149),\n",
       " ('study', 12),\n",
       " ('law;', 1),\n",
       " ('agreeable,', 35),\n",
       " ('plan', 75),\n",
       " ('favour', 72),\n",
       " ('confirmed.', 1),\n",
       " ('invited', 61),\n",
       " ('Hall;', 4),\n",
       " ('talked', 237),\n",
       " ('expected', 137),\n",
       " ('year;', 14),\n",
       " ('came.', 14),\n",
       " ('following', 97),\n",
       " ('town,', 85),\n",
       " ('equally', 141),\n",
       " ('encouraged,', 11),\n",
       " ('invited,', 7),\n",
       " ('expected,', 27),\n",
       " ('come;', 17),\n",
       " ('tidings', 11),\n",
       " ('married.', 24),\n",
       " ('Instead', 12),\n",
       " ('pushing', 4),\n",
       " ('fortune', 94),\n",
       " ('line', 42),\n",
       " ('marked', 36),\n",
       " ('house', 324),\n",
       " ('purchased', 7),\n",
       " ('independence', 21),\n",
       " ('uniting', 8),\n",
       " ('rich', 44),\n",
       " ('birth.', 5),\n",
       " ('resented', 6),\n",
       " ('it.', 723),\n",
       " ('As', 242),\n",
       " ('house,', 196),\n",
       " ('ought', 300),\n",
       " ('consulted,', 4),\n",
       " ('taking', 156),\n",
       " ('publicly', 4),\n",
       " ('hand;', 13),\n",
       " ('\"For', 22),\n",
       " ('together,\"', 4),\n",
       " ('observed,', 30),\n",
       " ('\"once', 2),\n",
       " (\"Tattersall's,\", 1),\n",
       " ('twice', 44),\n",
       " ('lobby', 5),\n",
       " ('House', 27),\n",
       " ('Commons.\"', 1),\n",
       " ('disapprobation', 8),\n",
       " ('expressed,', 8),\n",
       " ('apparently', 20),\n",
       " ('regarded.', 3),\n",
       " ('attempted', 25),\n",
       " ('apology,', 6),\n",
       " ('unsolicitous', 1),\n",
       " ('longer', 205),\n",
       " ('noticed', 18),\n",
       " ('unworthy', 29),\n",
       " ('it:', 16),\n",
       " ('between', 398),\n",
       " ('ceased.', 4),\n",
       " ('awkward', 30),\n",
       " ('still,', 23),\n",
       " ('interval', 24),\n",
       " ('several', 81),\n",
       " ('years,', 35),\n",
       " ('anger', 25),\n",
       " (\"father's\", 142),\n",
       " ('heir,', 3),\n",
       " ('pride', 63),\n",
       " ('proper', 130),\n",
       " ('match', 61),\n",
       " ('daughter.', 33),\n",
       " ('There', 368),\n",
       " ('baronet', 6),\n",
       " ('Z', 1),\n",
       " ('whom', 405),\n",
       " ('feelings', 355),\n",
       " ('willingly', 14),\n",
       " ('acknowledged', 56),\n",
       " ('equal.', 6),\n",
       " ('Yet', 37),\n",
       " ('miserably', 7),\n",
       " ('conducted', 11),\n",
       " ('(the', 8),\n",
       " ('summer', 26),\n",
       " ('1814)', 1),\n",
       " ('wearing', 9),\n",
       " ('black', 26),\n",
       " ('ribbons', 3),\n",
       " ('wife,', 75),\n",
       " ('admit', 49),\n",
       " ('worth', 138),\n",
       " ('disgrace', 22),\n",
       " ('might,', 29),\n",
       " ('perhaps,', 146),\n",
       " ('reason', 218),\n",
       " ('suppose', 242),\n",
       " ('perpetuated', 1),\n",
       " ('offspring,', 2),\n",
       " ('got', 182),\n",
       " ('over,', 104),\n",
       " ('done', 377),\n",
       " ('worse;', 2),\n",
       " ('accustomary', 7),\n",
       " ('intervention', 1),\n",
       " ('kind', 278),\n",
       " ('informed,', 7),\n",
       " ('spoken', 107),\n",
       " ('disrespectfully', 5),\n",
       " ('all,', 175),\n",
       " ('slightingly', 4),\n",
       " ('contemptuously', 2),\n",
       " ('blood', 9),\n",
       " ('belonged', 21),\n",
       " ('to,', 78),\n",
       " ('honours', 12),\n",
       " ('hereafter', 16),\n",
       " ('pardoned.', 2),\n",
       " ('Such', 119),\n",
       " ('sentiments', 43),\n",
       " ('sensations;', 2),\n",
       " ('cares', 28),\n",
       " ('alloy,', 2),\n",
       " ('agitations', 7),\n",
       " ('vary,', 1),\n",
       " ('sameness', 6),\n",
       " ('elegance,', 14),\n",
       " ('prosperity', 12),\n",
       " ('nothingness', 2),\n",
       " ('scene', 37),\n",
       " ('life;', 18),\n",
       " ('long,', 53),\n",
       " ('uneventful', 2),\n",
       " ('residence', 26),\n",
       " ('circle,', 12),\n",
       " ('fill', 16),\n",
       " ('vacancies', 2),\n",
       " ('habits', 31),\n",
       " ('utility', 6),\n",
       " ('abroad,', 11),\n",
       " ('talents', 16),\n",
       " ('accomplishments', 9),\n",
       " ...]"
      ]
     },
     "execution_count": 239,
     "metadata": {},
     "output_type": "execute_result"
    }
   ],
   "source": [
    "word_counts[:]"
   ]
  },
  {
   "cell_type": "markdown",
   "id": "a6c7e4e3",
   "metadata": {},
   "source": [
    "# Q 1.2"
   ]
  },
  {
   "cell_type": "code",
   "execution_count": 94,
   "id": "797fb50e",
   "metadata": {},
   "outputs": [
    {
     "name": "stderr",
     "output_type": "stream",
     "text": [
      "\r",
      "[Stage 354:>                                                        (0 + 1) / 1]\r"
     ]
    },
    {
     "name": "stdout",
     "output_type": "stream",
     "text": [
      "The count of unique words in the file is: 44360\n"
     ]
    },
    {
     "name": "stderr",
     "output_type": "stream",
     "text": [
      "\r",
      "                                                                                \r"
     ]
    }
   ],
   "source": [
    "#1.2\n",
    "\n",
    "lines = sc.textFile(\"JaneAusten.txt\") #The file is read using the textFile() method.\n",
    "\n",
    "words_rdd = lines.flatMap(lambda line: line.split(' '))\n",
    "\n",
    "distinct_words_counts = words_rdd.distinct() #The unique words can be found by invoking the distinct() function on the rdd.\n",
    "\n",
    "\n",
    "count = distinct_words_counts.count() #The count of unique words is obtained by invoking the count() function.\n",
    "\n",
    "print(\"The count of unique words in the file is:\", count)"
   ]
  },
  {
   "cell_type": "markdown",
   "id": "e17b6ed7",
   "metadata": {},
   "source": [
    "# Q 1.3"
   ]
  },
  {
   "cell_type": "code",
   "execution_count": 63,
   "id": "343396b6",
   "metadata": {},
   "outputs": [
    {
     "data": {
      "text/plain": [
       "[('the', 26654),\n",
       " ('to', 25322),\n",
       " ('of', 22761),\n",
       " ('and', 22184),\n",
       " ('', 17251),\n",
       " ('a', 13772),\n",
       " ('I', 11686),\n",
       " ('in', 11523),\n",
       " ('her', 11427),\n",
       " ('was', 11342)]"
      ]
     },
     "execution_count": 63,
     "metadata": {},
     "output_type": "execute_result"
    }
   ],
   "source": [
    "#1.3\n",
    "#sorting files based on their counts and showing top 10\n",
    "sort = sorted(word_counts,key=lambda l:l[1], reverse=True)\n",
    "sort[:10]\n"
   ]
  },
  {
   "cell_type": "code",
   "execution_count": 185,
   "id": "18a0f56b",
   "metadata": {
    "scrolled": true
   },
   "outputs": [
    {
     "name": "stdout",
     "output_type": "stream",
     "text": [
      "[('spark.app.name', 'word-counts'), ('spark.submit.pyFiles', ''), ('spark.submit.deployMode', 'client'), ('spark.app.submitTime', '1672598316727'), ('spark.ui.showConsoleProgress', 'true'), ('spark.master', 'local[1]')]\n"
     ]
    },
    {
     "name": "stderr",
     "output_type": "stream",
     "text": [
      "                                                                                \r"
     ]
    },
    {
     "name": "stdout",
     "output_type": "stream",
     "text": [
      "core: 1\n",
      "2.042257070541382\n",
      "The count of unique words in the file is: 44360\n",
      "[('spark.app.name', 'word-counts'), ('spark.submit.pyFiles', ''), ('spark.submit.deployMode', 'client'), ('spark.app.submitTime', '1672598316727'), ('spark.ui.showConsoleProgress', 'true'), ('spark.master', 'local[2]')]\n"
     ]
    },
    {
     "name": "stderr",
     "output_type": "stream",
     "text": [
      "                                                                                \r"
     ]
    },
    {
     "name": "stdout",
     "output_type": "stream",
     "text": [
      "core: 2\n",
      "1.5026111602783203\n",
      "The count of unique words in the file is: 44360\n",
      "[('spark.master', 'local[3]'), ('spark.app.name', 'word-counts'), ('spark.submit.pyFiles', ''), ('spark.submit.deployMode', 'client'), ('spark.app.submitTime', '1672598316727'), ('spark.ui.showConsoleProgress', 'true')]\n"
     ]
    },
    {
     "name": "stderr",
     "output_type": "stream",
     "text": [
      "                                                                                \r"
     ]
    },
    {
     "name": "stdout",
     "output_type": "stream",
     "text": [
      "core: 3\n",
      "1.3745746612548828\n",
      "The count of unique words in the file is: 44360\n",
      "[('spark.master', 'local[4]'), ('spark.app.name', 'word-counts'), ('spark.submit.pyFiles', ''), ('spark.submit.deployMode', 'client'), ('spark.app.submitTime', '1672598316727'), ('spark.ui.showConsoleProgress', 'true')]\n"
     ]
    },
    {
     "name": "stderr",
     "output_type": "stream",
     "text": [
      "\r",
      "[Stage 590:>                                                        (0 + 1) / 1]\r"
     ]
    },
    {
     "name": "stdout",
     "output_type": "stream",
     "text": [
      "core: 4\n",
      "1.3995206356048584\n",
      "The count of unique words in the file is: 44360\n"
     ]
    },
    {
     "name": "stderr",
     "output_type": "stream",
     "text": [
      "\r",
      "                                                                                \r"
     ]
    },
    {
     "data": {
      "text/plain": [
       "[2.0422825813293457,\n",
       " 1.5026342868804932,\n",
       " 1.3745982646942139,\n",
       " 1.3995444774627686]"
      ]
     },
     "execution_count": 185,
     "metadata": {},
     "output_type": "execute_result"
    }
   ],
   "source": [
    "#changing the number of processors for exprimenting the process time\n",
    "t = 0\n",
    "T = []\n",
    "num_cores= [ 1,2,3,4]\n",
    "for i in num_cores:\n",
    "    conf = SparkConf()\n",
    "    conf.setMaster(f\"local[{i}]\").setAppName(\"word-counts\")   # set the number of cores\n",
    "    sc = SparkContext.getOrCreate(conf=conf) #The spark context object is assigned to a variable sc.\n",
    "    print(conf.getAll())\n",
    "\n",
    "    t = time.time()\n",
    "\n",
    "    lines = sc.textFile(\"JaneAusten.txt\") #The file is read using the textFile() method.\n",
    "\n",
    "    words_rdd = lines.flatMap(lambda line: line.split(' '))\n",
    "\n",
    "    distinct_words_counts = words_rdd.distinct() #The unique words can be found by invoking the distinct() function on the rdd.\n",
    "\n",
    "\n",
    "    count = distinct_words_counts.count() #The count of unique words is obtained by invoking the count() function.\n",
    "\n",
    "    print(\"core:\",i)\n",
    "    \n",
    "    print(time.time() - t)\n",
    "    T.append(time.time() - t)\n",
    "    \n",
    "\n",
    "    print(\"The count of unique words in the file is:\", count)\n",
    "    \n",
    "T"
   ]
  },
  {
   "cell_type": "code",
   "execution_count": 189,
   "id": "d419ccca",
   "metadata": {},
   "outputs": [
    {
     "data": {
      "image/png": "[encoded data removed]",
      "text/plain": [
       "<Figure size 432x288 with 1 Axes>"
      ]
     },
     "metadata": {
      "needs_background": "light"
     },
     "output_type": "display_data"
    }
   ],
   "source": [
    "import matplotlib.pyplot as plt\n",
    "\n",
    "plt.plot(num_cores,T, color='magenta', marker='o',mfc='pink' ) #plot the data\n",
    "\n",
    "plt.ylabel('time') #set the label for y axis\n",
    "plt.xlabel('number of cores') #set the label for x-axis\n",
    "plt.title(\"Time vs number of cores\") #set the title of the graph\n",
    "plt.show() #display the graph\n",
    "plt.savefig(\"Time vs number of cores.png\")\n"
   ]
  },
  {
   "cell_type": "markdown",
   "id": "2c8e09a6",
   "metadata": {},
   "source": [
    "# Q 2"
   ]
  },
  {
   "cell_type": "markdown",
   "id": "6116d83a",
   "metadata": {},
   "source": [
    "### C1 Text file"
   ]
  },
  {
   "cell_type": "code",
   "execution_count": 3,
   "id": "c857b7ec",
   "metadata": {},
   "outputs": [],
   "source": [
    "import numpy as np\n",
    "import pandas as pd\n",
    "import matplotlib.pyplot as plt\n",
    "from mpl_toolkits.mplot3d import Axes3D\n",
    "# from sklearn.datasets.samples_generator import make_blobs\n",
    "from pyspark import SparkContext\n",
    "from pyspark.ml.clustering import KMeans, BisectingKMeans\n",
    "from pyspark.ml.feature import VectorAssembler\n",
    "from pyspark.sql import SQLContext\n",
    "from pyspark.sql import SparkSession #Import the pyspark\n",
    "from pyspark.conf import SparkConf #Import the SparkConf\n",
    "from pyspark.context import SparkContext #Import the SparkContext\n",
    "import time"
   ]
  },
  {
   "cell_type": "markdown",
   "id": "cc6fa195",
   "metadata": {},
   "source": [
    "### Q 2.1"
   ]
  },
  {
   "cell_type": "code",
   "execution_count": null,
   "id": "dcecac50",
   "metadata": {},
   "outputs": [],
   "source": []
  },
  {
   "cell_type": "code",
   "execution_count": 4,
   "id": "f6cee018",
   "metadata": {},
   "outputs": [
    {
     "name": "stdout",
     "output_type": "stream",
     "text": [
      "23/01/02 11:53:44 WARN Utils: Your hostname, ERFAN resolves to a loopback address: 127.0.1.1; using 172.27.90.33 instead (on interface eth0)\n",
      "23/01/02 11:53:44 WARN Utils: Set SPARK_LOCAL_IP if you need to bind to another address\n"
     ]
    },
    {
     "name": "stderr",
     "output_type": "stream",
     "text": [
      "Setting default log level to \"WARN\".\n",
      "To adjust logging level use sc.setLogLevel(newLevel). For SparkR, use setLogLevel(newLevel).\n"
     ]
    },
    {
     "name": "stdout",
     "output_type": "stream",
     "text": [
      "23/01/02 11:53:45 WARN NativeCodeLoader: Unable to load native-hadoop library for your platform... using builtin-java classes where applicable\n"
     ]
    }
   ],
   "source": [
    "#2.1\n",
    "#initializing and starting a pyspark session\n",
    "\n",
    "conf = SparkConf()\n",
    "conf.setMaster(\"local\").setAppName(\"word-counts\") \n",
    "\n",
    "sc = SparkContext.getOrCreate(conf=conf)\n",
    "\n",
    "df1 = sc.textFile(\"C1.txt\") #The file is read using the textFile() method.\n"
   ]
  },
  {
   "cell_type": "markdown",
   "id": "e1d91c18",
   "metadata": {},
   "source": [
    "### if you have already run these cells, you can skip this section"
   ]
  },
  {
   "cell_type": "code",
   "execution_count": 193,
   "id": "63dc942d",
   "metadata": {},
   "outputs": [
    {
     "name": "stdout",
     "output_type": "stream",
     "text": [
      "['624474', '673412', '647442', '532283', '646529']\n"
     ]
    }
   ],
   "source": [
    "#  save the numbers in columns of dataframe as lists\n",
    "L1 = []\n",
    "L2 = []\n",
    "for i in range(df1.count()):\n",
    "    L1.append(df1.collect()[i][4:10])\n",
    "    L2.append(df1.collect()[i][14:20])\n",
    "    \n",
    "print(L1[:5])"
   ]
  },
  {
   "cell_type": "code",
   "execution_count": 195,
   "id": "de8b1da8",
   "metadata": {},
   "outputs": [],
   "source": [
    "# making a pandas dataframe using the lists\n",
    "C1_list = pd.DataFrame(\n",
    "    {'X': L1,\n",
    "     'Y': L2\n",
    "    })\n",
    "\n",
    "# save the dataframe as a csv file\n",
    "C1_list.to_csv('C1_pd.csv', index=False)"
   ]
  },
  {
   "cell_type": "markdown",
   "id": "3fefa420",
   "metadata": {},
   "source": [
    "# loading the dataframe"
   ]
  },
  {
   "cell_type": "code",
   "execution_count": 168,
   "id": "bb0f0b5a",
   "metadata": {},
   "outputs": [
    {
     "name": "stderr",
     "output_type": "stream",
     "text": [
      "/home/erfan_wsl/.local/lib/python3.10/site-packages/pyspark/sql/context.py:112: FutureWarning: Deprecated in 3.0.0. Use SparkSession.builder.getOrCreate() instead.\n",
      "  warnings.warn(\n"
     ]
    }
   ],
   "source": [
    "sqlContext = SQLContext(sc)\n"
   ]
  },
  {
   "cell_type": "code",
   "execution_count": 169,
   "id": "e1162f17",
   "metadata": {},
   "outputs": [],
   "source": [
    "FEATURES_COL = ['X', 'Y']\n",
    "path = 'C1_pd.csv'"
   ]
  },
  {
   "cell_type": "code",
   "execution_count": 170,
   "id": "30bb9d45",
   "metadata": {},
   "outputs": [
    {
     "name": "stdout",
     "output_type": "stream",
     "text": [
      "+------+------+\n",
      "|     X|     Y|\n",
      "+------+------+\n",
      "|624474|837604|\n",
      "|673412|735362|\n",
      "|647442|677000|\n",
      "|532283|741384|\n",
      "|646529|742844|\n",
      "|647535|755101|\n",
      "|644131|777721|\n",
      "|521368|736923|\n",
      "|688940|798967|\n",
      "|592666|805244|\n",
      "|645068|716248|\n",
      "|666740|707391|\n",
      "|662064|644958|\n",
      "|630628|689662|\n",
      "|623268|774834|\n",
      "|617896|766560|\n",
      "|560260|629298|\n",
      "|595728|703618|\n",
      "|594177|665266|\n",
      "|544862|802997|\n",
      "+------+------+\n",
      "only showing top 20 rows\n",
      "\n"
     ]
    }
   ],
   "source": [
    "# reading csv file as pyspark dataframe\n",
    "df = sqlContext.read.csv(path, header=True) \n",
    "df.show()"
   ]
  },
  {
   "cell_type": "code",
   "execution_count": 171,
   "id": "22fb5aec",
   "metadata": {},
   "outputs": [
    {
     "name": "stdout",
     "output_type": "stream",
     "text": [
      "+--------+--------+\n",
      "|       X|       Y|\n",
      "+--------+--------+\n",
      "|624474.0|837604.0|\n",
      "|673412.0|735362.0|\n",
      "|647442.0|677000.0|\n",
      "|532283.0|741384.0|\n",
      "|646529.0|742844.0|\n",
      "|647535.0|755101.0|\n",
      "|644131.0|777721.0|\n",
      "|521368.0|736923.0|\n",
      "|688940.0|798967.0|\n",
      "|592666.0|805244.0|\n",
      "|645068.0|716248.0|\n",
      "|666740.0|707391.0|\n",
      "|662064.0|644958.0|\n",
      "|630628.0|689662.0|\n",
      "|623268.0|774834.0|\n",
      "|617896.0|766560.0|\n",
      "|560260.0|629298.0|\n",
      "|595728.0|703618.0|\n",
      "|594177.0|665266.0|\n",
      "|544862.0|802997.0|\n",
      "+--------+--------+\n",
      "only showing top 20 rows\n",
      "\n"
     ]
    }
   ],
   "source": [
    "# change type of values from string to float\n",
    "df_feat = df.select(*(df[c].cast(\"float\").alias(c) for c in df.columns[:]))\n",
    "df_feat.show()"
   ]
  },
  {
   "cell_type": "code",
   "execution_count": 172,
   "id": "0b551742",
   "metadata": {},
   "outputs": [
    {
     "name": "stdout",
     "output_type": "stream",
     "text": [
      "+-------------------+\n",
      "|           features|\n",
      "+-------------------+\n",
      "|[624474.0,837604.0]|\n",
      "|[673412.0,735362.0]|\n",
      "|[647442.0,677000.0]|\n",
      "|[532283.0,741384.0]|\n",
      "|[646529.0,742844.0]|\n",
      "|[647535.0,755101.0]|\n",
      "|[644131.0,777721.0]|\n",
      "|[521368.0,736923.0]|\n",
      "|[688940.0,798967.0]|\n",
      "|[592666.0,805244.0]|\n",
      "|[645068.0,716248.0]|\n",
      "|[666740.0,707391.0]|\n",
      "|[662064.0,644958.0]|\n",
      "|[630628.0,689662.0]|\n",
      "|[623268.0,774834.0]|\n",
      "|[617896.0,766560.0]|\n",
      "|[560260.0,629298.0]|\n",
      "|[595728.0,703618.0]|\n",
      "|[594177.0,665266.0]|\n",
      "|[544862.0,802997.0]|\n",
      "+-------------------+\n",
      "only showing top 20 rows\n",
      "\n"
     ]
    }
   ],
   "source": [
    "#adding a features column which contains all the columns as a single list\n",
    "\n",
    "vecAssembler = VectorAssembler(inputCols=FEATURES_COL, outputCol=\"features\")\n",
    "# choosing just the features column for a new dataframe\n",
    "df_kmeans = vecAssembler.transform(df_feat).select('features')\n",
    "df_kmeans.show()"
   ]
  },
  {
   "cell_type": "code",
   "execution_count": 201,
   "id": "95679478",
   "metadata": {},
   "outputs": [
    {
     "name": "stderr",
     "output_type": "stream",
     "text": [
      "                                                                                \r"
     ]
    }
   ],
   "source": [
    "# from pyspark.ml.evaluation import ClusteringEvaluator\n",
    "# cost = np.zeros(25)\n",
    "# for k in range(2,25):\n",
    "#     kmeans = KMeans().setK(k).setSeed(1).setFeaturesCol(\"features\")\n",
    "#     model = kmeans.fit(df_kmeans.sample(False,0.1, seed=42))\n",
    "# #     cost[k] = model.computeCost(df_kmeans) # requires Spark 2.0 or later\n",
    "#     pdt = model.transform(df_kmeans)\n",
    "#     evaluator = ClusteringEvaluator()\n",
    "#     cost[k] = evaluator.evaluate(pdt)"
   ]
  },
  {
   "cell_type": "code",
   "execution_count": 205,
   "id": "7103a6e4",
   "metadata": {},
   "outputs": [],
   "source": [
    "# from pyspark.ml.evaluation import ClusteringEvaluator\n",
    "# cost = np.zeros(25)\n",
    "# for k in range(2,25):\n",
    "#     kmeans = KMeans().setK(k).setSeed(1).setFeaturesCol(\"features\")\n",
    "# #     model = kmeans.fit(df_kmeans.sample(False,0.1, seed=42))\n",
    "#     model = kmeans.fit(df_kmeans)\n",
    "#     cost[k] = model.summary.trainingCost\n",
    "\n"
   ]
  },
  {
   "cell_type": "markdown",
   "id": "786e9737",
   "metadata": {},
   "source": [
    "# Kmeans++"
   ]
  },
  {
   "cell_type": "code",
   "execution_count": 173,
   "id": "5807d9e8",
   "metadata": {},
   "outputs": [
    {
     "name": "stderr",
     "output_type": "stream",
     "text": [
      "\r",
      "[Stage 29977:>                                                      (0 + 1) / 1]\r",
      "\r",
      "                                                                                \r"
     ]
    }
   ],
   "source": [
    "# training a kmeans ++ (initMode='k-means||') model on the dataframe extracted from the text file\n",
    "# evaluating using Silhouette methode\n",
    "from pyspark.ml.evaluation import ClusteringEvaluator\n",
    "cost = np.zeros(25)\n",
    "for k in range(2,25):\n",
    "    kmeans = KMeans(initMode='k-means||').setK(k).setSeed(1).setFeaturesCol(\"features\")\n",
    "    model = kmeans.fit(df_kmeans)\n",
    "\n",
    "    pdt = model.transform(df_kmeans)\n",
    "    evaluator = ClusteringEvaluator()\n",
    "    cost[k] = evaluator.evaluate(pdt) #Silhouette with squared euclidean distance\n",
    "    "
   ]
  },
  {
   "cell_type": "code",
   "execution_count": 174,
   "id": "b5a4e7d0",
   "metadata": {},
   "outputs": [
    {
     "data": {
      "image/png": "[encoded data removed]",
      "text/plain": [
       "<Figure size 576x432 with 1 Axes>"
      ]
     },
     "metadata": {
      "needs_background": "light"
     },
     "output_type": "display_data"
    }
   ],
   "source": [
    "# ploting Silhouette score vs number of clusters(k)\n",
    "# the maximum shows the optimal k for the kmeans model\n",
    "fig, ax = plt.subplots(1,1, figsize =(8,6))\n",
    "ax.plot(range(2,25),cost[2:25],\"bo-\")\n",
    "ax.set_xlabel('k')\n",
    "ax.set_ylabel('Silhouette score')\n",
    "ax.set_title(\"Silhouette score curve\")\n",
    "plt.savefig(\"Silhouette score curve.png\")"
   ]
  },
  {
   "cell_type": "code",
   "execution_count": 19,
   "id": "3e6ca2cc",
   "metadata": {},
   "outputs": [
    {
     "data": {
      "image/png": "[encoded data removed]",
      "text/plain": [
       "<Figure size 640x480 with 1 Axes>"
      ]
     },
     "metadata": {},
     "output_type": "display_data"
    }
   ],
   "source": [
    "# training a kmeans ++ (initMode='k-means||') model on the dataframe extracted from the text file\n",
    "# evaluating using Elbow methode\n",
    "cost = np.zeros(25)\n",
    "for k in range(2,25):\n",
    "    kmeans = KMeans(initMode='k-means||').setK(k).setSeed(1).setFeaturesCol(\"features\")\n",
    "    model = kmeans.fit(df_kmeans)    \n",
    "    cost[k] = model.summary.trainingCost\n",
    "\n",
    "    \n",
    "# ploting Silhouette score vs number of clusters(k)\n",
    "# the elbow shows the optimal k for the kmeans model\n",
    "\n",
    "plt.plot(range(2,25),cost[2:25])\n",
    "plt.xlabel('Number of Clusters')\n",
    "plt.ylabel('Score')\n",
    "plt.title('Elbow Curve-KMeans++')\n",
    "plt.savefig(\"Elbow Curve_c1.png\")    \n"
   ]
  },
  {
   "cell_type": "code",
   "execution_count": null,
   "id": "e81b3747",
   "metadata": {},
   "outputs": [],
   "source": []
  },
  {
   "cell_type": "markdown",
   "id": "fd8e5941",
   "metadata": {},
   "source": [
    "### Q 2.2 and Q2.3 kmeans"
   ]
  },
  {
   "cell_type": "code",
   "execution_count": 175,
   "id": "706d5bfa",
   "metadata": {},
   "outputs": [
    {
     "name": "stdout",
     "output_type": "stream",
     "text": [
      "best k for clustering:  16\n",
      "Cluster Centers: \n",
      "[738928.3238342  430720.18393782]\n",
      "[508472.61237785 219457.78501629]\n",
      "[289311.39145907 703451.08540925]\n",
      "[458746.55401662 642691.57617729]\n",
      "[245168.32397959 493590.78571429]\n",
      "[383938.31740614 363885.19453925]\n",
      "[389803.93859649 511164.44736842]\n",
      "[498527.15755627 778321.        ]\n",
      "[199636.85714286 314493.9047619 ]\n",
      "[541997.53313253 386822.64759036]\n",
      "[661783.55952381 263828.71130952]\n",
      "[650725.57931034 756255.30344828]\n",
      "[768162.48504983 576619.66445183]\n",
      "[623400.07713499 621188.47658402]\n",
      "[297558.31476323 276901.95821727]\n",
      "[546289.03289474 517146.85197368]\n"
     ]
    }
   ],
   "source": [
    "# choosing the optimal number of clusters then training the kmeans++ model and showing the centroids of them\n",
    "k = cost.argmax()\n",
    "print(\"best k for clustering: \", k)\n",
    "kmeans = KMeans(initMode='k-means||').setK(k).setSeed(1).setFeaturesCol(\"features\")\n",
    "model = kmeans.fit(df_kmeans)\n",
    "centers = model.clusterCenters()\n",
    "\n",
    "print(\"Cluster Centers: \")\n",
    "for center in centers:\n",
    "    print(center)"
   ]
  },
  {
   "cell_type": "markdown",
   "id": "545af7aa",
   "metadata": {},
   "source": [
    "### Q 2.4 kmeans"
   ]
  },
  {
   "cell_type": "code",
   "execution_count": 211,
   "id": "d66b810c",
   "metadata": {},
   "outputs": [
    {
     "name": "stdout",
     "output_type": "stream",
     "text": [
      "best k for clustering:  16\n",
      "[('spark.app.submitTime', '1672647824991'), ('spark.app.name', 'word-counts'), ('spark.submit.pyFiles', ''), ('spark.submit.deployMode', 'client'), ('spark.ui.showConsoleProgress', 'true'), ('spark.master', 'local[1]')]\n",
      "1.5731873512268066\n",
      "[('spark.app.submitTime', '1672647824991'), ('spark.app.name', 'word-counts'), ('spark.submit.pyFiles', ''), ('spark.submit.deployMode', 'client'), ('spark.ui.showConsoleProgress', 'true'), ('spark.master', 'local[2]')]\n",
      "1.3014400005340576\n",
      "[('spark.app.submitTime', '1672647824991'), ('spark.master', 'local[3]'), ('spark.app.name', 'word-counts'), ('spark.submit.pyFiles', ''), ('spark.submit.deployMode', 'client'), ('spark.ui.showConsoleProgress', 'true')]\n",
      "1.1812496185302734\n",
      "[('spark.app.submitTime', '1672647824991'), ('spark.master', 'local[4]'), ('spark.app.name', 'word-counts'), ('spark.submit.pyFiles', ''), ('spark.submit.deployMode', 'client'), ('spark.ui.showConsoleProgress', 'true')]\n",
      "1.2570278644561768\n"
     ]
    }
   ],
   "source": [
    "#changing the number of processors for exprimenting the process time of kmeans++ training\n",
    "\n",
    "T=[]\n",
    "\n",
    "print(\"best k for clustering: \", k)\n",
    "\n",
    "num_cores= [ 1,2,3,4]\n",
    "for i in num_cores:\n",
    "    \n",
    "    conf = SparkConf()\n",
    "    conf.setMaster(f\"local[{i}]\").setAppName(\"word-counts\")   # set the number of cores\n",
    "    sc = SparkContext.getOrCreate(conf=conf) #The spark context object is assigned to a variable sc.\n",
    "    print(conf.getAll())\n",
    "\n",
    "    t = time.time()\n",
    "    kmeans = KMeans(initMode='k-means||').setK(k).setFeaturesCol(\"features\")\n",
    "    model = kmeans.fit(df_kmeans)\n",
    "    print(time.time() - t)\n",
    "    T.append(time.time() - t)\n"
   ]
  },
  {
   "cell_type": "code",
   "execution_count": 213,
   "id": "da165ad2",
   "metadata": {},
   "outputs": [
    {
     "data": {
      "image/png": "[encoded data removed]",
      "text/plain": [
       "<Figure size 432x288 with 1 Axes>"
      ]
     },
     "metadata": {
      "needs_background": "light"
     },
     "output_type": "display_data"
    },
    {
     "data": {
      "text/plain": [
       "<Figure size 432x288 with 0 Axes>"
      ]
     },
     "metadata": {},
     "output_type": "display_data"
    }
   ],
   "source": [
    "\n",
    "import matplotlib.pyplot as plt\n",
    "\n",
    "plt.plot(num_cores,T, color='magenta', marker='o',mfc='pink' ) #plot the data\n",
    "\n",
    "plt.ylabel('time') #set the label for y axis\n",
    "plt.xlabel('number of cores') #set the label for x-axis\n",
    "plt.title(\"Time vs number of cores (C1)\") #set the title of the graph\n",
    "plt.show() #display the graph\n",
    "plt.savefig(\"Time vs number of cores_C1.png\")\n"
   ]
  },
  {
   "cell_type": "code",
   "execution_count": null,
   "id": "b0217599",
   "metadata": {},
   "outputs": [],
   "source": []
  },
  {
   "cell_type": "markdown",
   "id": "de6a62da",
   "metadata": {},
   "source": [
    "# BisectingKMeans"
   ]
  },
  {
   "cell_type": "code",
   "execution_count": 214,
   "id": "fc26cd02",
   "metadata": {},
   "outputs": [],
   "source": [
    "# training a BisectingKMeans model on the dataframe extracted from the text file\n",
    "# evaluating using Silhouette methode\n",
    "from pyspark.ml.evaluation import ClusteringEvaluator\n",
    "cost = np.zeros(25)\n",
    "for k in range(2,25):\n",
    "    bkm = BisectingKMeans().setK(k).setSeed(1).setFeaturesCol(\"features\")\n",
    "    model = bkm.fit(df_kmeans)\n",
    "\n",
    "    pdt = model.transform(df_kmeans)\n",
    "    evaluator = ClusteringEvaluator()\n",
    "    cost[k] = evaluator.evaluate(pdt) #Silhouette with squared euclidean distance\n",
    "    "
   ]
  },
  {
   "cell_type": "code",
   "execution_count": 215,
   "id": "cd7ad215",
   "metadata": {},
   "outputs": [
    {
     "data": {
      "image/png": "[encoded data removed]",
      "text/plain": [
       "<Figure size 576x432 with 1 Axes>"
      ]
     },
     "metadata": {
      "needs_background": "light"
     },
     "output_type": "display_data"
    }
   ],
   "source": [
    "# ploting Silhouette score vs number of clusters(k)\n",
    "# the maximum shows the optimal k for the BisectingKMeans model\n",
    "fig, ax = plt.subplots(1,1, figsize =(8,6))\n",
    "ax.plot(range(2,25),cost[2:25],\"bo-\")\n",
    "ax.set_xlabel('k')\n",
    "ax.set_ylabel('Silhouette score')\n",
    "ax.set_title(\"Silhouette score curve\")\n",
    "plt.savefig(\"Silhouette score curve BisectingKMeans.png\")"
   ]
  },
  {
   "cell_type": "markdown",
   "id": "5897628e",
   "metadata": {},
   "source": [
    "### Q 2.2 and Q2.3 BisectingKMeans"
   ]
  },
  {
   "cell_type": "code",
   "execution_count": 216,
   "id": "9cc03d2c",
   "metadata": {},
   "outputs": [
    {
     "name": "stdout",
     "output_type": "stream",
     "text": [
      "best k for clustering:  4\n",
      "Cluster Centers: \n",
      "[314877.29136691 413308.13956835]\n",
      "[568247.25367287 294112.2575906 ]\n",
      "[479203.43018336 696878.19252468]\n",
      "[698223.69769428 531685.30401366]\n"
     ]
    }
   ],
   "source": [
    "# choosing the optimal number of clusters then training the kmeans++ model and showing the centroids of them\n",
    "\n",
    "k = cost.argmax()\n",
    "print(\"best k for clustering: \", k)\n",
    "bkm = BisectingKMeans().setK(k).setSeed(1).setFeaturesCol(\"features\")\n",
    "model = bkm.fit(df_kmeans)\n",
    "centers = model.clusterCenters()\n",
    "\n",
    "print(\"Cluster Centers: \")\n",
    "for center in centers:\n",
    "    print(center)"
   ]
  },
  {
   "cell_type": "markdown",
   "id": "950c5bc6",
   "metadata": {},
   "source": [
    "### Q 2.4 BisectingKMeans"
   ]
  },
  {
   "cell_type": "code",
   "execution_count": 229,
   "id": "a671648f",
   "metadata": {},
   "outputs": [
    {
     "name": "stdout",
     "output_type": "stream",
     "text": [
      "best k for clustering:  4\n",
      "[('spark.app.submitTime', '1672647824991'), ('spark.app.name', 'word-counts'), ('spark.submit.pyFiles', ''), ('spark.submit.deployMode', 'client'), ('spark.ui.showConsoleProgress', 'true'), ('spark.master', 'local[1]')]\n",
      "3.359760284423828\n",
      "[('spark.app.submitTime', '1672647824991'), ('spark.app.name', 'word-counts'), ('spark.submit.pyFiles', ''), ('spark.submit.deployMode', 'client'), ('spark.ui.showConsoleProgress', 'true'), ('spark.master', 'local[2]')]\n",
      "3.083700656890869\n",
      "[('spark.app.submitTime', '1672647824991'), ('spark.master', 'local[3]'), ('spark.app.name', 'word-counts'), ('spark.submit.pyFiles', ''), ('spark.submit.deployMode', 'client'), ('spark.ui.showConsoleProgress', 'true')]\n",
      "2.4359402656555176\n",
      "[('spark.app.submitTime', '1672647824991'), ('spark.master', 'local[4]'), ('spark.app.name', 'word-counts'), ('spark.submit.pyFiles', ''), ('spark.submit.deployMode', 'client'), ('spark.ui.showConsoleProgress', 'true')]\n",
      "2.309162139892578\n"
     ]
    }
   ],
   "source": [
    "#changing the number of processors for exprimenting the process time of kmeans++ training\n",
    "\n",
    "T=[] ### Q 2.4 kmeans\n",
    "\n",
    "print(\"best k for clustering: \", k)\n",
    "\n",
    "num_cores= [ 1,2,3,4]\n",
    "for i in num_cores:\n",
    "    \n",
    "    conf = SparkConf()\n",
    "    conf.setMaster(f\"local[{i}]\").setAppName(\"word-counts\")   # set the number of cores\n",
    "    sc = SparkContext.getOrCreate(conf=conf) #The spark context object is assigned to a variable sc.\n",
    "    print(conf.getAll())\n",
    "\n",
    "    t = time.time()\n",
    "    bkm = BisectingKMeans().setK(k).setSeed(1).setFeaturesCol(\"features\")\n",
    "    model = bkm.fit(df_kmeans)\n",
    "\n",
    "    print(time.time() - t)\n",
    "    T.append(time.time() - t)\n",
    "\n"
   ]
  },
  {
   "cell_type": "code",
   "execution_count": 232,
   "id": "678739da",
   "metadata": {},
   "outputs": [
    {
     "data": {
      "image/png": "[encoded data removed]",
      "text/plain": [
       "<Figure size 432x288 with 1 Axes>"
      ]
     },
     "metadata": {
      "needs_background": "light"
     },
     "output_type": "display_data"
    },
    {
     "data": {
      "text/plain": [
       "<Figure size 432x288 with 0 Axes>"
      ]
     },
     "metadata": {},
     "output_type": "display_data"
    }
   ],
   "source": [
    "import matplotlib.pyplot as plt\n",
    "\n",
    "plt.plot(num_cores,T, color='magenta', marker='o',mfc='pink' ) #plot the data\n",
    "\n",
    "plt.ylabel('time') #set the label for y axis\n",
    "plt.xlabel('number of cores') #set the label for x-axis\n",
    "plt.title(\"Time vs number of cores (C1 bkm)\") #set the title of the graph\n",
    "plt.show() #display the graph\n",
    "plt.savefig(\"Time vs number of cores_C1_bkm.png\")\n"
   ]
  },
  {
   "cell_type": "markdown",
   "id": "ed474ca1",
   "metadata": {},
   "source": [
    "### C2 Text file (process is just like the one for C1 Text file so all comments can be repeated)"
   ]
  },
  {
   "cell_type": "markdown",
   "id": "87570545",
   "metadata": {},
   "source": [
    "### if you have already run these cells, you can skip this section"
   ]
  },
  {
   "cell_type": "code",
   "execution_count": 3,
   "id": "e8d70a7a",
   "metadata": {},
   "outputs": [],
   "source": [
    "# import numpy as np\n",
    "# import pandas as pd\n",
    "# import matplotlib.pyplot as plt\n",
    "# from mpl_toolkits.mplot3d import Axes3D\n",
    "# # from sklearn.datasets.samples_generator import make_blobs\n",
    "# from pyspark import SparkContext\n",
    "# from pyspark.ml.clustering import KMeans, BisectingKMeans\n",
    "# from pyspark.ml.feature import VectorAssembler\n",
    "# from pyspark.sql import SQLContext\n",
    "# from pyspark.sql import SparkSession #Import the pyspark\n",
    "# from pyspark.conf import SparkConf #Import the SparkConf\n",
    "# from pyspark.context import SparkContext #Import the SparkContext\n",
    "# import time"
   ]
  },
  {
   "cell_type": "code",
   "execution_count": 28,
   "id": "0c9c7b8a",
   "metadata": {},
   "outputs": [],
   "source": [
    "#2.1\n",
    "conf = SparkConf()\n",
    "conf.setMaster(\"local\").setAppName(\"word-counts\") \n",
    "# sc = SparkContext(conf=conf1) #The spark context object is assigned to a variable sc.\n",
    "sc = SparkContext.getOrCreate(conf=conf)\n",
    "\n",
    "df2 = sc.textFile(\"C2.txt\") #The file is read using the textFile() method.\n"
   ]
  },
  {
   "cell_type": "markdown",
   "id": "1bea6948",
   "metadata": {},
   "source": [
    "#### if you have already run these cells, you can skip this section"
   ]
  },
  {
   "cell_type": "code",
   "execution_count": 30,
   "id": "d21f5b98",
   "metadata": {},
   "outputs": [
    {
     "name": "stdout",
     "output_type": "stream",
     "text": [
      "['15.55', '14.9', '14.45', '14.15', '13.75']\n"
     ]
    }
   ],
   "source": [
    "L1 = []\n",
    "L2 = []\n",
    "for i in range(df2.count()):\n",
    "    m= df2.collect()[i].find(\"\\t\")\n",
    "    \n",
    "    L1.append(df2.collect()[i][:m])\n",
    "    L2.append(df2.collect()[i][m+1:])\n",
    "    \n",
    "print(L1[:5])"
   ]
  },
  {
   "cell_type": "code",
   "execution_count": 31,
   "id": "4a9f8d15",
   "metadata": {},
   "outputs": [],
   "source": [
    "C2_list = pd.DataFrame(\n",
    "    {'X': L1,\n",
    "     'Y': L2\n",
    "    })\n",
    "\n",
    "# save the ndarray as a csv file\n",
    "C2_list.to_csv('C2_pd.csv', index=False)"
   ]
  },
  {
   "cell_type": "markdown",
   "id": "12b898f1",
   "metadata": {},
   "source": [
    "# loading the dataframe"
   ]
  },
  {
   "cell_type": "code",
   "execution_count": 157,
   "id": "d3465a90",
   "metadata": {},
   "outputs": [
    {
     "name": "stderr",
     "output_type": "stream",
     "text": [
      "/home/erfan_wsl/.local/lib/python3.10/site-packages/pyspark/sql/context.py:112: FutureWarning: Deprecated in 3.0.0. Use SparkSession.builder.getOrCreate() instead.\n",
      "  warnings.warn(\n"
     ]
    }
   ],
   "source": [
    "sqlContext = SQLContext(sc)\n"
   ]
  },
  {
   "cell_type": "code",
   "execution_count": 158,
   "id": "282ee225",
   "metadata": {},
   "outputs": [],
   "source": [
    "FEATURES_COL = ['X', 'Y']\n",
    "path = 'C2_pd.csv'"
   ]
  },
  {
   "cell_type": "code",
   "execution_count": 159,
   "id": "243214af",
   "metadata": {},
   "outputs": [
    {
     "name": "stdout",
     "output_type": "stream",
     "text": [
      "+-----+-----+\n",
      "|    X|    Y|\n",
      "+-----+-----+\n",
      "|15.55|28.65|\n",
      "| 14.9|27.55|\n",
      "|14.45|28.35|\n",
      "|14.15| 28.8|\n",
      "|13.75|28.05|\n",
      "|13.35|28.45|\n",
      "|   13|29.15|\n",
      "|13.45| 27.5|\n",
      "| 13.6| 26.5|\n",
      "| 12.8|27.35|\n",
      "| 12.4|27.85|\n",
      "| 12.3| 28.4|\n",
      "| 12.2|28.65|\n",
      "| 13.4| 25.1|\n",
      "|12.95|25.95|\n",
      "| 12.9| 26.5|\n",
      "|11.85|   27|\n",
      "|11.35|   28|\n",
      "|11.15| 28.7|\n",
      "|11.25| 27.4|\n",
      "+-----+-----+\n",
      "only showing top 20 rows\n",
      "\n"
     ]
    }
   ],
   "source": [
    "df = sqlContext.read.csv(path, header=True) # requires spark 2.0\n",
    "df.show()"
   ]
  },
  {
   "cell_type": "code",
   "execution_count": 160,
   "id": "a541e859",
   "metadata": {},
   "outputs": [
    {
     "name": "stdout",
     "output_type": "stream",
     "text": [
      "+-----+-----+\n",
      "|    X|    Y|\n",
      "+-----+-----+\n",
      "|15.55|28.65|\n",
      "| 14.9|27.55|\n",
      "|14.45|28.35|\n",
      "|14.15| 28.8|\n",
      "|13.75|28.05|\n",
      "|13.35|28.45|\n",
      "| 13.0|29.15|\n",
      "|13.45| 27.5|\n",
      "| 13.6| 26.5|\n",
      "| 12.8|27.35|\n",
      "| 12.4|27.85|\n",
      "| 12.3| 28.4|\n",
      "| 12.2|28.65|\n",
      "| 13.4| 25.1|\n",
      "|12.95|25.95|\n",
      "| 12.9| 26.5|\n",
      "|11.85| 27.0|\n",
      "|11.35| 28.0|\n",
      "|11.15| 28.7|\n",
      "|11.25| 27.4|\n",
      "+-----+-----+\n",
      "only showing top 20 rows\n",
      "\n"
     ]
    }
   ],
   "source": [
    "df_feat = df.select(*(df[c].cast(\"float\").alias(c) for c in df.columns[:]))\n",
    "df_feat.show()"
   ]
  },
  {
   "cell_type": "code",
   "execution_count": 161,
   "id": "55c23e66",
   "metadata": {},
   "outputs": [
    {
     "name": "stdout",
     "output_type": "stream",
     "text": [
      "+--------------------+\n",
      "|            features|\n",
      "+--------------------+\n",
      "|[15.5500001907348...|\n",
      "|[14.8999996185302...|\n",
      "|[14.4499998092651...|\n",
      "|[14.1499996185302...|\n",
      "|[13.75,28.0499992...|\n",
      "|[13.3500003814697...|\n",
      "|[13.0,29.14999961...|\n",
      "|[13.4499998092651...|\n",
      "|[13.6000003814697...|\n",
      "|[12.8000001907348...|\n",
      "|[12.3999996185302...|\n",
      "|[12.3000001907348...|\n",
      "|[12.1999998092651...|\n",
      "|[13.3999996185302...|\n",
      "|[12.9499998092651...|\n",
      "|[12.8999996185302...|\n",
      "|[11.8500003814697...|\n",
      "|[11.3500003814697...|\n",
      "|[11.1499996185302...|\n",
      "|[11.25,27.3999996...|\n",
      "+--------------------+\n",
      "only showing top 20 rows\n",
      "\n"
     ]
    }
   ],
   "source": [
    "vecAssembler = VectorAssembler(inputCols=FEATURES_COL, outputCol=\"features\")\n",
    "df_kmeans = vecAssembler.transform(df_feat).select('features')\n",
    "df_kmeans.show()"
   ]
  },
  {
   "cell_type": "markdown",
   "id": "9101670d",
   "metadata": {},
   "source": [
    "# Kmeans++"
   ]
  },
  {
   "cell_type": "code",
   "execution_count": 162,
   "id": "220f43ec",
   "metadata": {},
   "outputs": [],
   "source": [
    "from pyspark.ml.evaluation import ClusteringEvaluator\n",
    "cost = np.zeros(25)\n",
    "for k in range(2,25):\n",
    "    kmeans = KMeans(initMode='k-means||').setK(k).setSeed(1).setFeaturesCol(\"features\")\n",
    "    model = kmeans.fit(df_kmeans)\n",
    "\n",
    "    pdt = model.transform(df_kmeans)\n",
    "    evaluator = ClusteringEvaluator()\n",
    "    cost[k] = evaluator.evaluate(pdt) #Silhouette with squared euclidean distance\n",
    "    "
   ]
  },
  {
   "cell_type": "code",
   "execution_count": 163,
   "id": "8957a5b3",
   "metadata": {},
   "outputs": [
    {
     "data": {
      "image/png": "[encoded data removed]",
      "text/plain": [
       "<Figure size 576x432 with 1 Axes>"
      ]
     },
     "metadata": {
      "needs_background": "light"
     },
     "output_type": "display_data"
    }
   ],
   "source": [
    "fig, ax = plt.subplots(1,1, figsize =(8,6))\n",
    "ax.plot(range(2,25),cost[2:25],\"bo-\")\n",
    "ax.set_xlabel('k')\n",
    "ax.set_ylabel('Silhouette score')\n",
    "ax.set_title(\"Silhouette score curve\")\n",
    "plt.savefig(\"Silhouette score curve_C2.png\")"
   ]
  },
  {
   "cell_type": "code",
   "execution_count": 164,
   "id": "bd247580",
   "metadata": {},
   "outputs": [
    {
     "name": "stdout",
     "output_type": "stream",
     "text": [
      "best k for clustering:  3\n",
      "Cluster Centers: \n",
      "[15.42522253  7.20756677]\n",
      "[32.36707314 16.54471542]\n",
      "[11.01487806 22.77268288]\n"
     ]
    }
   ],
   "source": [
    "k = cost.argmax()\n",
    "print(\"best k for clustering: \", k)\n",
    "kmeans = KMeans(initMode='k-means||').setK(k).setSeed(1).setFeaturesCol(\"features\")\n",
    "model = kmeans.fit(df_kmeans)\n",
    "centers = model.clusterCenters()\n",
    "\n",
    "print(\"Cluster Centers: \")\n",
    "for center in centers:\n",
    "    print(center)"
   ]
  },
  {
   "cell_type": "code",
   "execution_count": 111,
   "id": "e3a6efbc",
   "metadata": {},
   "outputs": [
    {
     "name": "stdout",
     "output_type": "stream",
     "text": [
      "best k for clustering:  3\n",
      "[('spark.app.submitTime', '1672647824991'), ('spark.app.name', 'word-counts'), ('spark.submit.pyFiles', ''), ('spark.submit.deployMode', 'client'), ('spark.ui.showConsoleProgress', 'true'), ('spark.master', 'local[1]')]\n",
      "0.9006755352020264\n",
      "[('spark.app.submitTime', '1672647824991'), ('spark.app.name', 'word-counts'), ('spark.submit.pyFiles', ''), ('spark.submit.deployMode', 'client'), ('spark.ui.showConsoleProgress', 'true'), ('spark.master', 'local[2]')]\n",
      "0.7574799060821533\n",
      "[('spark.app.submitTime', '1672647824991'), ('spark.master', 'local[3]'), ('spark.app.name', 'word-counts'), ('spark.submit.pyFiles', ''), ('spark.submit.deployMode', 'client'), ('spark.ui.showConsoleProgress', 'true')]\n",
      "0.6220803260803223\n",
      "[('spark.app.submitTime', '1672647824991'), ('spark.master', 'local[4]'), ('spark.app.name', 'word-counts'), ('spark.submit.pyFiles', ''), ('spark.submit.deployMode', 'client'), ('spark.ui.showConsoleProgress', 'true')]\n",
      "0.6970460414886475\n"
     ]
    }
   ],
   "source": [
    "T=[]\n",
    "# k = cost.argmax()\n",
    "print(\"best k for clustering: \", k)\n",
    "\n",
    "num_cores= [ 1,2,3,4]\n",
    "for i in num_cores:\n",
    "    \n",
    "    conf = SparkConf()\n",
    "    conf.setMaster(f\"local[{i}]\").setAppName(\"word-counts\")   # set the number of cores\n",
    "    sc = SparkContext.getOrCreate(conf=conf) #The spark context object is assigned to a variable sc.\n",
    "    print(conf.getAll())\n",
    "\n",
    "    t = time.time()\n",
    "    kmeans = KMeans(initMode='k-means||').setK(k).setFeaturesCol(\"features\")\n",
    "    model = kmeans.fit(df_kmeans)\n",
    "    # centers = model.clusterCenters()\n",
    "    print(time.time() - t)\n",
    "    T.append(time.time() - t)\n",
    "\n",
    "# print(\"Cluster Centers: \")\n",
    "# for center in centers:\n",
    "#     print(center)"
   ]
  },
  {
   "cell_type": "code",
   "execution_count": 116,
   "id": "2a67a156",
   "metadata": {},
   "outputs": [
    {
     "data": {
      "image/png": "[encoded data removed]",
      "text/plain": [
       "<Figure size 432x288 with 1 Axes>"
      ]
     },
     "metadata": {
      "needs_background": "light"
     },
     "output_type": "display_data"
    }
   ],
   "source": [
    "import matplotlib.pyplot as plt\n",
    "\n",
    "plt.plot(num_cores,T, color='magenta', marker='o',mfc='pink' ) #plot the data\n",
    "\n",
    "plt.ylabel('time') #set the label for y axis\n",
    "plt.xlabel('number of cores') #set the label for x-axis\n",
    "plt.title(\"Time vs number of cores (C2)\") #set the title of the graph\n",
    "plt.show() #display the graph\n",
    "# plt.savefig(\"Time vs number of cores_C2.png\")\n"
   ]
  },
  {
   "cell_type": "code",
   "execution_count": null,
   "id": "68e564a8",
   "metadata": {},
   "outputs": [],
   "source": []
  },
  {
   "cell_type": "markdown",
   "id": "03ad2fc8",
   "metadata": {},
   "source": [
    "# BisectingKMeans"
   ]
  },
  {
   "cell_type": "code",
   "execution_count": 165,
   "id": "3af9c105",
   "metadata": {},
   "outputs": [],
   "source": [
    "from pyspark.ml.evaluation import ClusteringEvaluator\n",
    "cost = np.zeros(25)\n",
    "for k in range(2,25):\n",
    "    bkm = BisectingKMeans().setK(k).setSeed(1).setFeaturesCol(\"features\")\n",
    "    model = bkm.fit(df_kmeans)\n",
    "\n",
    "    pdt = model.transform(df_kmeans)\n",
    "    evaluator = ClusteringEvaluator()\n",
    "    cost[k] = evaluator.evaluate(pdt) #Silhouette with squared euclidean distance\n",
    "    "
   ]
  },
  {
   "cell_type": "code",
   "execution_count": 166,
   "id": "e8f9da59",
   "metadata": {},
   "outputs": [
    {
     "data": {
      "image/png": "[encoded data removed]",
      "text/plain": [
       "<Figure size 576x432 with 1 Axes>"
      ]
     },
     "metadata": {
      "needs_background": "light"
     },
     "output_type": "display_data"
    }
   ],
   "source": [
    "fig, ax = plt.subplots(1,1, figsize =(8,6))\n",
    "ax.plot(range(2,25),cost[2:25],\"bo-\")\n",
    "ax.set_xlabel('k')\n",
    "ax.set_ylabel('Silhouette score')\n",
    "ax.set_title(\"Silhouette score curve\")\n",
    "plt.savefig(\"Silhouette score curve BisectingKMeans_C2.png\")"
   ]
  },
  {
   "cell_type": "code",
   "execution_count": 167,
   "id": "32e59fa1",
   "metadata": {},
   "outputs": [
    {
     "name": "stdout",
     "output_type": "stream",
     "text": [
      "best k for clustering:  4\n",
      "Cluster Centers: \n",
      "[10.1026316 22.6910526]\n",
      "[15.33960841  7.17861446]\n",
      "[32.82247704  8.83119266]\n",
      "[30.75636939 22.35764325]\n"
     ]
    }
   ],
   "source": [
    "k = cost.argmax()\n",
    "print(\"best k for clustering: \", k)\n",
    "bkm = BisectingKMeans().setK(k).setSeed(1).setFeaturesCol(\"features\")\n",
    "model = bkm.fit(df_kmeans)\n",
    "centers = model.clusterCenters()\n",
    "\n",
    "print(\"Cluster Centers: \")\n",
    "for center in centers:\n",
    "    print(center)"
   ]
  },
  {
   "cell_type": "code",
   "execution_count": 123,
   "id": "bc4ee35a",
   "metadata": {},
   "outputs": [
    {
     "name": "stdout",
     "output_type": "stream",
     "text": [
      "best k for clustering:  4\n",
      "[('spark.app.submitTime', '1672647824991'), ('spark.app.name', 'word-counts'), ('spark.submit.pyFiles', ''), ('spark.submit.deployMode', 'client'), ('spark.ui.showConsoleProgress', 'true'), ('spark.master', 'local[1]')]\n",
      "2.990079641342163\n",
      "[('spark.app.submitTime', '1672647824991'), ('spark.app.name', 'word-counts'), ('spark.submit.pyFiles', ''), ('spark.submit.deployMode', 'client'), ('spark.ui.showConsoleProgress', 'true'), ('spark.master', 'local[2]')]\n",
      "2.3063271045684814\n",
      "[('spark.app.submitTime', '1672647824991'), ('spark.master', 'local[3]'), ('spark.app.name', 'word-counts'), ('spark.submit.pyFiles', ''), ('spark.submit.deployMode', 'client'), ('spark.ui.showConsoleProgress', 'true')]\n",
      "2.251386880874634\n",
      "[('spark.app.submitTime', '1672647824991'), ('spark.master', 'local[4]'), ('spark.app.name', 'word-counts'), ('spark.submit.pyFiles', ''), ('spark.submit.deployMode', 'client'), ('spark.ui.showConsoleProgress', 'true')]\n",
      "2.1762235164642334\n"
     ]
    }
   ],
   "source": [
    "T=[]\n",
    "# k = cost.argmax()\n",
    "print(\"best k for clustering: \", k)\n",
    "\n",
    "num_cores= [ 1,2,3,4]\n",
    "for i in num_cores:\n",
    "    \n",
    "    conf = SparkConf()\n",
    "    conf.setMaster(f\"local[{i}]\").setAppName(\"word-counts\")   # set the number of cores\n",
    "    sc = SparkContext.getOrCreate(conf=conf) #The spark context object is assigned to a variable sc.\n",
    "    print(conf.getAll())\n",
    "\n",
    "    t = time.time()\n",
    "    bkm = BisectingKMeans().setK(k).setSeed(1).setFeaturesCol(\"features\")\n",
    "    model = bkm.fit(df_kmeans)\n",
    "    # centers = model.clusterCenters()\n",
    "    print(time.time() - t)\n",
    "    T.append(time.time() - t)\n",
    "\n",
    "# print(\"Cluster Centers: \")\n",
    "# for center in centers:\n",
    "#     print(center)"
   ]
  },
  {
   "cell_type": "code",
   "execution_count": 126,
   "id": "2caa098c",
   "metadata": {},
   "outputs": [
    {
     "data": {
      "image/png": "[encoded data removed]",
      "text/plain": [
       "<Figure size 432x288 with 1 Axes>"
      ]
     },
     "metadata": {
      "needs_background": "light"
     },
     "output_type": "display_data"
    }
   ],
   "source": [
    "import matplotlib.pyplot as plt\n",
    "\n",
    "plt.plot(num_cores,T, color='magenta', marker='o',mfc='pink' ) #plot the data\n",
    "\n",
    "plt.ylabel('time') #set the label for y axis\n",
    "plt.xlabel('number of cores') #set the label for x-axis\n",
    "plt.title(\"Time vs number of cores (C2 bkm)\") #set the title of the graph\n",
    "plt.show() #display the graph\n",
    "# plt.savefig(\"Time vs number of cores_C2_bkm.png\")\n"
   ]
  },
  {
   "cell_type": "code",
   "execution_count": null,
   "id": "7633984a",
   "metadata": {},
   "outputs": [],
   "source": []
  },
  {
   "cell_type": "markdown",
   "id": "cf99d22e",
   "metadata": {},
   "source": [
    "### C3 Text file (process is just like the one for C1 Text file so all comments can be repeated)"
   ]
  },
  {
   "cell_type": "markdown",
   "id": "35ec1e78",
   "metadata": {},
   "source": [
    "### if you have already run these cells, you can skip this section"
   ]
  },
  {
   "cell_type": "code",
   "execution_count": null,
   "id": "27c0da59",
   "metadata": {},
   "outputs": [],
   "source": []
  },
  {
   "cell_type": "code",
   "execution_count": 3,
   "id": "d0e4fc6c",
   "metadata": {},
   "outputs": [],
   "source": [
    "# import numpy as np\n",
    "# import pandas as pd\n",
    "# import matplotlib.pyplot as plt\n",
    "# from mpl_toolkits.mplot3d import Axes3D\n",
    "# # from sklearn.datasets.samples_generator import make_blobs\n",
    "# from pyspark import SparkContext\n",
    "# from pyspark.ml.clustering import KMeans, BisectingKMeans\n",
    "# from pyspark.ml.feature import VectorAssembler\n",
    "# from pyspark.sql import SQLContext\n",
    "# from pyspark.sql import SparkSession #Import the pyspark\n",
    "# from pyspark.conf import SparkConf #Import the SparkConf\n",
    "# from pyspark.context import SparkContext #Import the SparkContext\n",
    "# import time"
   ]
  },
  {
   "cell_type": "code",
   "execution_count": 127,
   "id": "af0db489",
   "metadata": {},
   "outputs": [],
   "source": [
    "#2.1\n",
    "conf = SparkConf()\n",
    "conf.setMaster(\"local\").setAppName(\"word-counts\") \n",
    "# sc = SparkContext(conf=conf1) #The spark context object is assigned to a variable sc.\n",
    "sc = SparkContext.getOrCreate(conf=conf)\n",
    "\n",
    "df3 = sc.textFile(\"C3.txt\") #The file is read using the textFile() method.\n"
   ]
  },
  {
   "cell_type": "markdown",
   "id": "11cd2fc9",
   "metadata": {},
   "source": [
    "#### if you have already run these cells, you can skip this section"
   ]
  },
  {
   "cell_type": "code",
   "execution_count": 128,
   "id": "2b9a3886",
   "metadata": {},
   "outputs": [
    {
     "name": "stdout",
     "output_type": "stream",
     "text": [
      "['31.95', '31.15', '30.45', '29.7', '28.9']\n"
     ]
    }
   ],
   "source": [
    "L1 = []\n",
    "L2 = []\n",
    "for i in range(df3.count()):\n",
    "    m= df3.collect()[i].find(\"\\t\")\n",
    "    \n",
    "    L1.append(df3.collect()[i][:m])\n",
    "    L2.append(df3.collect()[i][m+1:])\n",
    "    \n",
    "print(L1[:5])"
   ]
  },
  {
   "cell_type": "code",
   "execution_count": 129,
   "id": "14b812d1",
   "metadata": {},
   "outputs": [],
   "source": [
    "C3_list = pd.DataFrame(\n",
    "    {'X': L1,\n",
    "     'Y': L2\n",
    "    })\n",
    "\n",
    "# save the ndarray as a csv file\n",
    "C3_list.to_csv('C3_pd.csv', index=False)"
   ]
  },
  {
   "cell_type": "markdown",
   "id": "4b309199",
   "metadata": {},
   "source": [
    "# loading the dataframe"
   ]
  },
  {
   "cell_type": "code",
   "execution_count": 130,
   "id": "225edfc7",
   "metadata": {},
   "outputs": [
    {
     "name": "stderr",
     "output_type": "stream",
     "text": [
      "/home/erfan_wsl/.local/lib/python3.10/site-packages/pyspark/sql/context.py:112: FutureWarning: Deprecated in 3.0.0. Use SparkSession.builder.getOrCreate() instead.\n",
      "  warnings.warn(\n"
     ]
    }
   ],
   "source": [
    "sqlContext = SQLContext(sc)\n"
   ]
  },
  {
   "cell_type": "code",
   "execution_count": 131,
   "id": "3a100e3e",
   "metadata": {},
   "outputs": [],
   "source": [
    "FEATURES_COL = ['X', 'Y']\n",
    "path = 'C3_pd.csv'"
   ]
  },
  {
   "cell_type": "code",
   "execution_count": 132,
   "id": "d17f0be3",
   "metadata": {},
   "outputs": [
    {
     "name": "stdout",
     "output_type": "stream",
     "text": [
      "+-----+----+\n",
      "|    X|   Y|\n",
      "+-----+----+\n",
      "|31.95|7.95|\n",
      "|31.15| 7.3|\n",
      "|30.45|6.65|\n",
      "| 29.7|   6|\n",
      "| 28.9|5.55|\n",
      "|28.05|   5|\n",
      "| 27.2|4.55|\n",
      "|26.35|4.15|\n",
      "| 25.4|3.85|\n",
      "| 24.6| 3.6|\n",
      "| 23.6| 3.3|\n",
      "|22.75|3.15|\n",
      "|21.85|3.05|\n",
      "| 20.9|   3|\n",
      "|   20| 2.9|\n",
      "| 19.1|   3|\n",
      "| 18.2| 3.2|\n",
      "| 17.3|3.25|\n",
      "|16.55| 3.5|\n",
      "| 15.7| 3.7|\n",
      "+-----+----+\n",
      "only showing top 20 rows\n",
      "\n"
     ]
    }
   ],
   "source": [
    "df = sqlContext.read.csv(path, header=True) # requires spark 2.0\n",
    "df.show()"
   ]
  },
  {
   "cell_type": "code",
   "execution_count": 133,
   "id": "49f621f3",
   "metadata": {},
   "outputs": [
    {
     "name": "stdout",
     "output_type": "stream",
     "text": [
      "+-----+----+\n",
      "|    X|   Y|\n",
      "+-----+----+\n",
      "|31.95|7.95|\n",
      "|31.15| 7.3|\n",
      "|30.45|6.65|\n",
      "| 29.7| 6.0|\n",
      "| 28.9|5.55|\n",
      "|28.05| 5.0|\n",
      "| 27.2|4.55|\n",
      "|26.35|4.15|\n",
      "| 25.4|3.85|\n",
      "| 24.6| 3.6|\n",
      "| 23.6| 3.3|\n",
      "|22.75|3.15|\n",
      "|21.85|3.05|\n",
      "| 20.9| 3.0|\n",
      "| 20.0| 2.9|\n",
      "| 19.1| 3.0|\n",
      "| 18.2| 3.2|\n",
      "| 17.3|3.25|\n",
      "|16.55| 3.5|\n",
      "| 15.7| 3.7|\n",
      "+-----+----+\n",
      "only showing top 20 rows\n",
      "\n"
     ]
    }
   ],
   "source": [
    "df_feat = df.select(*(df[c].cast(\"float\").alias(c) for c in df.columns[:]))\n",
    "df_feat.show()"
   ]
  },
  {
   "cell_type": "code",
   "execution_count": 134,
   "id": "16107e04",
   "metadata": {},
   "outputs": [
    {
     "name": "stdout",
     "output_type": "stream",
     "text": [
      "+--------------------+\n",
      "|            features|\n",
      "+--------------------+\n",
      "|[31.9500007629394...|\n",
      "|[31.1499996185302...|\n",
      "|[30.4500007629394...|\n",
      "|[29.7000007629394...|\n",
      "|[28.8999996185302...|\n",
      "|[28.0499992370605...|\n",
      "|[27.2000007629394...|\n",
      "|[26.3500003814697...|\n",
      "|[25.3999996185302...|\n",
      "|[24.6000003814697...|\n",
      "|[23.6000003814697...|\n",
      "|[22.75,3.15000009...|\n",
      "|[21.8500003814697...|\n",
      "|[20.8999996185302...|\n",
      "|[20.0,2.900000095...|\n",
      "|[19.1000003814697...|\n",
      "|[18.2000007629394...|\n",
      "|[17.2999992370605...|\n",
      "|[16.5499992370605...|\n",
      "|[15.6999998092651...|\n",
      "+--------------------+\n",
      "only showing top 20 rows\n",
      "\n"
     ]
    }
   ],
   "source": [
    "vecAssembler = VectorAssembler(inputCols=FEATURES_COL, outputCol=\"features\")\n",
    "df_kmeans = vecAssembler.transform(df_feat).select('features')\n",
    "df_kmeans.show()"
   ]
  },
  {
   "cell_type": "code",
   "execution_count": 201,
   "id": "0d34538d",
   "metadata": {},
   "outputs": [
    {
     "name": "stderr",
     "output_type": "stream",
     "text": [
      "                                                                                \r"
     ]
    }
   ],
   "source": [
    "# from pyspark.ml.evaluation import ClusteringEvaluator\n",
    "# cost = np.zeros(25)\n",
    "# for k in range(2,25):\n",
    "#     kmeans = KMeans().setK(k).setSeed(1).setFeaturesCol(\"features\")\n",
    "#     model = kmeans.fit(df_kmeans.sample(False,0.1, seed=42))\n",
    "# #     cost[k] = model.computeCost(df_kmeans) # requires Spark 2.0 or later\n",
    "#     pdt = model.transform(df_kmeans)\n",
    "#     evaluator = ClusteringEvaluator()\n",
    "#     cost[k] = evaluator.evaluate(pdt)"
   ]
  },
  {
   "cell_type": "code",
   "execution_count": 205,
   "id": "846e5c6f",
   "metadata": {},
   "outputs": [],
   "source": [
    "# from pyspark.ml.evaluation import ClusteringEvaluator\n",
    "# cost = np.zeros(25)\n",
    "# for k in range(2,25):\n",
    "#     kmeans = KMeans().setK(k).setSeed(1).setFeaturesCol(\"features\")\n",
    "# #     model = kmeans.fit(df_kmeans.sample(False,0.1, seed=42))\n",
    "#     model = kmeans.fit(df_kmeans)\n",
    "#     cost[k] = model.summary.trainingCost\n",
    "\n"
   ]
  },
  {
   "cell_type": "markdown",
   "id": "ffa25bac",
   "metadata": {},
   "source": [
    "# Kmeans++"
   ]
  },
  {
   "cell_type": "code",
   "execution_count": 146,
   "id": "c84d2b53",
   "metadata": {},
   "outputs": [],
   "source": [
    "from pyspark.ml.evaluation import ClusteringEvaluator\n",
    "cost = np.zeros(25)\n",
    "for k in range(2,25):\n",
    "    kmeans = KMeans(initMode='k-means||').setK(k).setSeed(1).setFeaturesCol(\"features\")\n",
    "    model = kmeans.fit(df_kmeans)\n",
    "\n",
    "    pdt = model.transform(df_kmeans)\n",
    "    evaluator = ClusteringEvaluator()\n",
    "    cost[k] = evaluator.evaluate(pdt) #Silhouette with squared euclidean distance\n",
    "    "
   ]
  },
  {
   "cell_type": "code",
   "execution_count": 147,
   "id": "5a397201",
   "metadata": {},
   "outputs": [
    {
     "data": {
      "image/png": "[encoded data removed]",
      "text/plain": [
       "<Figure size 576x432 with 1 Axes>"
      ]
     },
     "metadata": {
      "needs_background": "light"
     },
     "output_type": "display_data"
    }
   ],
   "source": [
    "fig, ax = plt.subplots(1,1, figsize =(8,6))\n",
    "ax.plot(range(2,25),cost[2:25],\"bo-\")\n",
    "ax.set_xlabel('k')\n",
    "ax.set_ylabel('Silhouette score')\n",
    "ax.set_title(\"Silhouette score curve\")\n",
    "plt.savefig(\"Silhouette score curve_c3.png\")"
   ]
  },
  {
   "cell_type": "code",
   "execution_count": 148,
   "id": "5645f6f7",
   "metadata": {},
   "outputs": [
    {
     "name": "stdout",
     "output_type": "stream",
     "text": [
      "best k for clustering:  12\n",
      "Cluster Centers: \n",
      "[24.01666677 27.32222225]\n",
      "[13.20200012 17.59400002]\n",
      "[27.4673913  7.7086957]\n",
      "[14.94318177 25.54772732]\n",
      "[15.67624998 11.82875001]\n",
      "[23.07249999 14.42874994]\n",
      "[ 5.31666666 14.404762  ]\n",
      "[29.23620684 18.80862065]\n",
      "[20.17777782 20.94629627]\n",
      "[ 8.21304347 22.03913042]\n",
      "[10.28333322  7.6541667 ]\n",
      "[19.03478253  5.22173915]\n"
     ]
    }
   ],
   "source": [
    "k = cost.argmax()\n",
    "print(\"best k for clustering: \", k)\n",
    "kmeans = KMeans(initMode='k-means||').setK(k).setSeed(1).setFeaturesCol(\"features\")\n",
    "model = kmeans.fit(df_kmeans)\n",
    "centers = model.clusterCenters()\n",
    "\n",
    "print(\"Cluster Centers: \")\n",
    "for center in centers:\n",
    "    print(center)"
   ]
  },
  {
   "cell_type": "code",
   "execution_count": 153,
   "id": "44f507cc",
   "metadata": {},
   "outputs": [
    {
     "name": "stdout",
     "output_type": "stream",
     "text": [
      "best k for clustering:  12\n",
      "[('spark.app.submitTime', '1672647824991'), ('spark.app.name', 'word-counts'), ('spark.submit.pyFiles', ''), ('spark.submit.deployMode', 'client'), ('spark.ui.showConsoleProgress', 'true'), ('spark.master', 'local[1]')]\n",
      "0.9916925430297852\n",
      "[('spark.app.submitTime', '1672647824991'), ('spark.app.name', 'word-counts'), ('spark.submit.pyFiles', ''), ('spark.submit.deployMode', 'client'), ('spark.ui.showConsoleProgress', 'true'), ('spark.master', 'local[2]')]\n",
      "0.8872172832489014\n",
      "[('spark.app.submitTime', '1672647824991'), ('spark.master', 'local[3]'), ('spark.app.name', 'word-counts'), ('spark.submit.pyFiles', ''), ('spark.submit.deployMode', 'client'), ('spark.ui.showConsoleProgress', 'true')]\n",
      "0.8752856254577637\n",
      "[('spark.app.submitTime', '1672647824991'), ('spark.master', 'local[4]'), ('spark.app.name', 'word-counts'), ('spark.submit.pyFiles', ''), ('spark.submit.deployMode', 'client'), ('spark.ui.showConsoleProgress', 'true')]\n",
      "0.8751497268676758\n"
     ]
    }
   ],
   "source": [
    "T=[]\n",
    "# k = cost.argmax()\n",
    "print(\"best k for clustering: \", k)\n",
    "\n",
    "num_cores= [ 1,2,3,4]\n",
    "for i in num_cores:\n",
    "    \n",
    "    conf = SparkConf()\n",
    "    conf.setMaster(f\"local[{i}]\").setAppName(\"word-counts\")   # set the number of cores\n",
    "    sc = SparkContext.getOrCreate(conf=conf) #The spark context object is assigned to a variable sc.\n",
    "    print(conf.getAll())\n",
    "\n",
    "    t = time.time()\n",
    "    kmeans = KMeans(initMode='k-means||').setK(k).setFeaturesCol(\"features\")\n",
    "    model = kmeans.fit(df_kmeans)\n",
    "    # centers = model.clusterCenters()\n",
    "    print(time.time() - t)\n",
    "    T.append(time.time() - t)\n",
    "\n",
    "# print(\"Cluster Centers: \")\n",
    "# for center in centers:\n",
    "#     print(center)"
   ]
  },
  {
   "cell_type": "code",
   "execution_count": 156,
   "id": "7ecda56a",
   "metadata": {},
   "outputs": [
    {
     "data": {
      "image/png": "[encoded data removed]",
      "text/plain": [
       "<Figure size 432x288 with 1 Axes>"
      ]
     },
     "metadata": {
      "needs_background": "light"
     },
     "output_type": "display_data"
    }
   ],
   "source": [
    "import matplotlib.pyplot as plt\n",
    "\n",
    "plt.plot(num_cores,T, color='magenta', marker='o',mfc='pink' ) #plot the data\n",
    "\n",
    "plt.ylabel('time') #set the label for y axis\n",
    "plt.xlabel('number of cores') #set the label for x-axis\n",
    "plt.title(\"Time vs number of cores (C3)\") #set the title of the graph\n",
    "plt.show() #display the graph\n",
    "# plt.savefig(\"Time vs number of cores_C3.png\")\n"
   ]
  },
  {
   "cell_type": "code",
   "execution_count": null,
   "id": "f0aed4c7",
   "metadata": {},
   "outputs": [],
   "source": []
  },
  {
   "cell_type": "markdown",
   "id": "3ffb0aa3",
   "metadata": {},
   "source": [
    "# BisectingKMeans"
   ]
  },
  {
   "cell_type": "code",
   "execution_count": 141,
   "id": "773ed500",
   "metadata": {},
   "outputs": [],
   "source": [
    "from pyspark.ml.evaluation import ClusteringEvaluator\n",
    "cost = np.zeros(25)\n",
    "for k in range(2,25):\n",
    "    bkm = BisectingKMeans().setK(k).setSeed(1).setFeaturesCol(\"features\")\n",
    "    model = bkm.fit(df_kmeans)\n",
    "\n",
    "    pdt = model.transform(df_kmeans)\n",
    "    evaluator = ClusteringEvaluator()\n",
    "    cost[k] = evaluator.evaluate(pdt) #Silhouette with squared euclidean distance\n",
    "    "
   ]
  },
  {
   "cell_type": "code",
   "execution_count": 142,
   "id": "cf229816",
   "metadata": {},
   "outputs": [
    {
     "data": {
      "image/png": "[encoded data removed]",
      "text/plain": [
       "<Figure size 576x432 with 1 Axes>"
      ]
     },
     "metadata": {
      "needs_background": "light"
     },
     "output_type": "display_data"
    }
   ],
   "source": [
    "fig, ax = plt.subplots(1,1, figsize =(8,6))\n",
    "ax.plot(range(2,25),cost[2:25],\"bo-\")\n",
    "ax.set_xlabel('k')\n",
    "ax.set_ylabel('Silhouette score')\n",
    "ax.set_title(\"Silhouette score curve\")\n",
    "plt.savefig(\"Silhouette score curve BisectingKMeans_c3.png\")"
   ]
  },
  {
   "cell_type": "code",
   "execution_count": 143,
   "id": "21809774",
   "metadata": {},
   "outputs": [
    {
     "name": "stdout",
     "output_type": "stream",
     "text": [
      "best k for clustering:  4\n",
      "Cluster Centers: \n",
      "[11.21097562 20.62743903]\n",
      "[13.73421049 10.08750003]\n",
      "[24.96728388 11.42160492]\n",
      "[24.08082202 23.51095892]\n"
     ]
    }
   ],
   "source": [
    "k = cost.argmax()\n",
    "print(\"best k for clustering: \", k)\n",
    "bkm = BisectingKMeans().setK(k).setSeed(1).setFeaturesCol(\"features\")\n",
    "model = bkm.fit(df_kmeans)\n",
    "centers = model.clusterCenters()\n",
    "\n",
    "print(\"Cluster Centers: \")\n",
    "for center in centers:\n",
    "    print(center)"
   ]
  },
  {
   "cell_type": "code",
   "execution_count": 144,
   "id": "063e867f",
   "metadata": {},
   "outputs": [
    {
     "name": "stdout",
     "output_type": "stream",
     "text": [
      "best k for clustering:  4\n",
      "[('spark.app.submitTime', '1672647824991'), ('spark.app.name', 'word-counts'), ('spark.submit.pyFiles', ''), ('spark.submit.deployMode', 'client'), ('spark.ui.showConsoleProgress', 'true'), ('spark.master', 'local[1]')]\n",
      "1.6260912418365479\n",
      "[('spark.app.submitTime', '1672647824991'), ('spark.app.name', 'word-counts'), ('spark.submit.pyFiles', ''), ('spark.submit.deployMode', 'client'), ('spark.ui.showConsoleProgress', 'true'), ('spark.master', 'local[2]')]\n",
      "1.4269227981567383\n",
      "[('spark.app.submitTime', '1672647824991'), ('spark.master', 'local[3]'), ('spark.app.name', 'word-counts'), ('spark.submit.pyFiles', ''), ('spark.submit.deployMode', 'client'), ('spark.ui.showConsoleProgress', 'true')]\n",
      "1.3393959999084473\n",
      "[('spark.app.submitTime', '1672647824991'), ('spark.master', 'local[4]'), ('spark.app.name', 'word-counts'), ('spark.submit.pyFiles', ''), ('spark.submit.deployMode', 'client'), ('spark.ui.showConsoleProgress', 'true')]\n",
      "1.3793001174926758\n"
     ]
    }
   ],
   "source": [
    "T=[]\n",
    "# k = cost.argmax()\n",
    "print(\"best k for clustering: \", k)\n",
    "\n",
    "num_cores= [ 1,2,3,4]\n",
    "for i in num_cores:\n",
    "    \n",
    "    conf = SparkConf()\n",
    "    conf.setMaster(f\"local[{i}]\").setAppName(\"word-counts\")   # set the number of cores\n",
    "    sc = SparkContext.getOrCreate(conf=conf) #The spark context object is assigned to a variable sc.\n",
    "    print(conf.getAll())\n",
    "\n",
    "    t = time.time()\n",
    "    bkm = BisectingKMeans().setK(k).setSeed(1).setFeaturesCol(\"features\")\n",
    "    model = bkm.fit(df_kmeans)\n",
    "    # centers = model.clusterCenters()\n",
    "    print(time.time() - t)\n",
    "    T.append(time.time() - t)\n",
    "\n",
    "# print(\"Cluster Centers: \")\n",
    "# for center in centers:\n",
    "#     print(center)"
   ]
  },
  {
   "cell_type": "code",
   "execution_count": 145,
   "id": "218bbfab",
   "metadata": {},
   "outputs": [
    {
     "data": {
      "image/png": "[encoded data removed]",
      "text/plain": [
       "<Figure size 432x288 with 1 Axes>"
      ]
     },
     "metadata": {
      "needs_background": "light"
     },
     "output_type": "display_data"
    },
    {
     "data": {
      "text/plain": [
       "<Figure size 432x288 with 0 Axes>"
      ]
     },
     "metadata": {},
     "output_type": "display_data"
    }
   ],
   "source": [
    "import matplotlib.pyplot as plt\n",
    "\n",
    "plt.plot(num_cores,T, color='magenta', marker='o',mfc='pink' ) #plot the data\n",
    "\n",
    "plt.ylabel('time') #set the label for y axis\n",
    "plt.xlabel('number of cores') #set the label for x-axis\n",
    "plt.title(\"Time vs number of cores (C3 bkm)\") #set the title of the graph\n",
    "plt.show() #display the graph\n",
    "# plt.savefig(\"Time vs number of cores_C3_bkm.png\")\n"
   ]
  },
  {
   "cell_type": "code",
   "execution_count": null,
   "id": "cdd6bb4e",
   "metadata": {},
   "outputs": [],
   "source": []
  }
 ],
 "metadata": {
  "kernelspec": {
   "display_name": "Python 3 (ipykernel)",
   "language": "python",
   "name": "python3"
  },
  "language_info": {
   "codemirror_mode": {
    "name": "ipython",
    "version": 3
   },
   "file_extension": ".py",
   "mimetype": "text/x-python",
   "name": "python",
   "nbconvert_exporter": "python",
   "pygments_lexer": "ipython3",
   "version": "3.10.6"
  }
 },
 "nbformat": 4,
 "nbformat_minor": 5
}
